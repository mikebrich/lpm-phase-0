{
 "cells": [
  {
   "cell_type": "markdown",
   "id": "dad2edb4-b1a3-48ea-9103-0ac17fff34a9",
   "metadata": {
    "tags": []
   },
   "source": [
    "## PAIRING TABLE"
   ]
  },
  {
   "cell_type": "markdown",
   "id": "3170bf1b-f157-4530-9785-8266c6ac6366",
   "metadata": {
    "tags": []
   },
   "source": [
    "#### Imports"
   ]
  },
  {
   "cell_type": "code",
   "execution_count": 1,
   "id": "6e61a7c2-19ac-4036-8974-e271cfb8cbd2",
   "metadata": {},
   "outputs": [],
   "source": [
    "import pandas as pd\n",
    "import numpy as np"
   ]
  },
  {
   "cell_type": "markdown",
   "id": "f9b7c0d4-9f4b-48dc-b832-7e7f0928d3fb",
   "metadata": {},
   "source": [
    "#### Read In ADP Data For Pairing"
   ]
  },
  {
   "cell_type": "code",
   "execution_count": 6,
   "id": "f274bd51-d1e5-43a2-a6b6-a81f153153ae",
   "metadata": {},
   "outputs": [],
   "source": [
    "#read in the excel, put into DF\n",
    "raw_adp_df = pd.read_excel('inputs/NEW_PunchSourceEmails2023.xls') #read in the excel, put into DF"
   ]
  },
  {
   "cell_type": "code",
   "execution_count": 7,
   "id": "b928f4cf-1464-44c3-b2b9-df41165fa944",
   "metadata": {},
   "outputs": [
    {
     "data": {
      "text/html": [
       "<div>\n",
       "<style scoped>\n",
       "    .dataframe tbody tr th:only-of-type {\n",
       "        vertical-align: middle;\n",
       "    }\n",
       "\n",
       "    .dataframe tbody tr th {\n",
       "        vertical-align: top;\n",
       "    }\n",
       "\n",
       "    .dataframe thead th {\n",
       "        text-align: right;\n",
       "    }\n",
       "</style>\n",
       "<table border=\"1\" class=\"dataframe\">\n",
       "  <thead>\n",
       "    <tr style=\"text-align: right;\">\n",
       "      <th></th>\n",
       "      <th>Last Name</th>\n",
       "      <th>First Name</th>\n",
       "      <th>Email</th>\n",
       "      <th>Date</th>\n",
       "    </tr>\n",
       "  </thead>\n",
       "  <tbody>\n",
       "    <tr>\n",
       "      <th>0</th>\n",
       "      <td>Abam</td>\n",
       "      <td>Aria</td>\n",
       "      <td>ariaebam2006@gmail.com</td>\n",
       "      <td>2023-05-28</td>\n",
       "    </tr>\n",
       "    <tr>\n",
       "      <th>1</th>\n",
       "      <td>Abam</td>\n",
       "      <td>Aria</td>\n",
       "      <td>ariaebam2006@gmail.com</td>\n",
       "      <td>2023-05-29</td>\n",
       "    </tr>\n",
       "    <tr>\n",
       "      <th>2</th>\n",
       "      <td>Abam</td>\n",
       "      <td>Aria</td>\n",
       "      <td>ariaebam2006@gmail.com</td>\n",
       "      <td>2023-06-04</td>\n",
       "    </tr>\n",
       "    <tr>\n",
       "      <th>3</th>\n",
       "      <td>Abam</td>\n",
       "      <td>Aria</td>\n",
       "      <td>ariaebam2006@gmail.com</td>\n",
       "      <td>2023-06-20</td>\n",
       "    </tr>\n",
       "    <tr>\n",
       "      <th>4</th>\n",
       "      <td>Abam</td>\n",
       "      <td>Aria</td>\n",
       "      <td>ariaebam2006@gmail.com</td>\n",
       "      <td>2023-06-28</td>\n",
       "    </tr>\n",
       "    <tr>\n",
       "      <th>...</th>\n",
       "      <td>...</td>\n",
       "      <td>...</td>\n",
       "      <td>...</td>\n",
       "      <td>...</td>\n",
       "    </tr>\n",
       "    <tr>\n",
       "      <th>9987</th>\n",
       "      <td>von Brachel</td>\n",
       "      <td>Elinor</td>\n",
       "      <td>evonbrachel@gmail.com</td>\n",
       "      <td>2023-07-18</td>\n",
       "    </tr>\n",
       "    <tr>\n",
       "      <th>9988</th>\n",
       "      <td>von Brachel</td>\n",
       "      <td>Elinor</td>\n",
       "      <td>evonbrachel@gmail.com</td>\n",
       "      <td>2023-07-20</td>\n",
       "    </tr>\n",
       "    <tr>\n",
       "      <th>9989</th>\n",
       "      <td>von Brachel</td>\n",
       "      <td>Elinor</td>\n",
       "      <td>evonbrachel@gmail.com</td>\n",
       "      <td>2023-07-27</td>\n",
       "    </tr>\n",
       "    <tr>\n",
       "      <th>9990</th>\n",
       "      <td>von Brachel</td>\n",
       "      <td>Elinor</td>\n",
       "      <td>evonbrachel@gmail.com</td>\n",
       "      <td>2023-08-13</td>\n",
       "    </tr>\n",
       "    <tr>\n",
       "      <th>9991</th>\n",
       "      <td>von Brachel</td>\n",
       "      <td>Elinor</td>\n",
       "      <td>evonbrachel@gmail.com</td>\n",
       "      <td>2023-08-15</td>\n",
       "    </tr>\n",
       "  </tbody>\n",
       "</table>\n",
       "<p>9992 rows × 4 columns</p>\n",
       "</div>"
      ],
      "text/plain": [
       "        Last Name First Name                   Email        Date\n",
       "0            Abam       Aria  ariaebam2006@gmail.com  2023-05-28\n",
       "1            Abam       Aria  ariaebam2006@gmail.com  2023-05-29\n",
       "2            Abam       Aria  ariaebam2006@gmail.com  2023-06-04\n",
       "3            Abam       Aria  ariaebam2006@gmail.com  2023-06-20\n",
       "4            Abam       Aria  ariaebam2006@gmail.com  2023-06-28\n",
       "...           ...        ...                     ...         ...\n",
       "9987  von Brachel     Elinor   evonbrachel@gmail.com  2023-07-18\n",
       "9988  von Brachel     Elinor   evonbrachel@gmail.com  2023-07-20\n",
       "9989  von Brachel     Elinor   evonbrachel@gmail.com  2023-07-27\n",
       "9990  von Brachel     Elinor   evonbrachel@gmail.com  2023-08-13\n",
       "9991  von Brachel     Elinor   evonbrachel@gmail.com  2023-08-15\n",
       "\n",
       "[9992 rows x 4 columns]"
      ]
     },
     "execution_count": 7,
     "metadata": {},
     "output_type": "execute_result"
    }
   ],
   "source": [
    "#filter the relevant data\n",
    "raw_adp_df = raw_adp_df[['Last Name', 'First Name', 'Personal Contact: Personal Email', \n",
    "                         'Time In', 'Pay Code [Timecard]']] #keep these cols\n",
    "raw_adp_df = raw_adp_df.rename(columns={'Personal Contact: Personal Email': 'Email'}) #rename col\n",
    "##raw_adp_df = raw_adp_df[raw_adp_df['Pay Code [Timecard]'] != \"REGSAL\"] #drop managers from the pay data\n",
    "raw_adp_df.loc[:, 'Date'] = raw_adp_df['Time In'].dt.date #make it solely a date col\n",
    "raw_adp_df.drop(columns=['Time In', 'Pay Code [Timecard]'], inplace=True) #then drop orig time in col\n",
    "\n",
    "raw_adp_df"
   ]
  }
 ],
 "metadata": {
  "kernelspec": {
   "display_name": "Python 3 (ipykernel)",
   "language": "python",
   "name": "python3"
  },
  "language_info": {
   "codemirror_mode": {
    "name": "ipython",
    "version": 3
   },
   "file_extension": ".py",
   "mimetype": "text/x-python",
   "name": "python",
   "nbconvert_exporter": "python",
   "pygments_lexer": "ipython3",
   "version": "3.9.13"
  }
 },
 "nbformat": 4,
 "nbformat_minor": 5
}
