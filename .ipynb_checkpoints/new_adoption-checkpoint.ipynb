{
 "cells": [
  {
   "cell_type": "markdown",
   "id": "dad2edb4-b1a3-48ea-9103-0ac17fff34a9",
   "metadata": {
    "tags": []
   },
   "source": [
    "## PAIRING TABLE"
   ]
  },
  {
   "cell_type": "markdown",
   "id": "3170bf1b-f157-4530-9785-8266c6ac6366",
   "metadata": {
    "tags": []
   },
   "source": [
    "#### Imports"
   ]
  },
  {
   "cell_type": "code",
   "execution_count": 1,
   "id": "6e61a7c2-19ac-4036-8974-e271cfb8cbd2",
   "metadata": {},
   "outputs": [],
   "source": [
    "import pandas as pd\n",
    "import numpy as np"
   ]
  },
  {
   "cell_type": "markdown",
   "id": "f9b7c0d4-9f4b-48dc-b832-7e7f0928d3fb",
   "metadata": {},
   "source": [
    "#### Read In ADP Data For Pairing"
   ]
  },
  {
   "cell_type": "code",
   "execution_count": 2,
   "id": "f274bd51-d1e5-43a2-a6b6-a81f153153ae",
   "metadata": {},
   "outputs": [],
   "source": [
    "#read in the excel, put into DF\n",
    "raw_adp_df = pd.read_excel('inputs/NEW_PunchSourceEmails2023.xls') #read in the excel, put into DF"
   ]
  },
  {
   "cell_type": "code",
   "execution_count": 3,
   "id": "b928f4cf-1464-44c3-b2b9-df41165fa944",
   "metadata": {},
   "outputs": [
    {
     "data": {
      "text/html": [
       "<div>\n",
       "<style scoped>\n",
       "    .dataframe tbody tr th:only-of-type {\n",
       "        vertical-align: middle;\n",
       "    }\n",
       "\n",
       "    .dataframe tbody tr th {\n",
       "        vertical-align: top;\n",
       "    }\n",
       "\n",
       "    .dataframe thead th {\n",
       "        text-align: right;\n",
       "    }\n",
       "</style>\n",
       "<table border=\"1\" class=\"dataframe\">\n",
       "  <thead>\n",
       "    <tr style=\"text-align: right;\">\n",
       "      <th></th>\n",
       "      <th>Last Name</th>\n",
       "      <th>First Name</th>\n",
       "      <th>Email</th>\n",
       "      <th>Date</th>\n",
       "    </tr>\n",
       "  </thead>\n",
       "  <tbody>\n",
       "    <tr>\n",
       "      <th>0</th>\n",
       "      <td>Abam</td>\n",
       "      <td>Aria</td>\n",
       "      <td>ariaebam2006@gmail.com</td>\n",
       "      <td>2023-05-28</td>\n",
       "    </tr>\n",
       "    <tr>\n",
       "      <th>1</th>\n",
       "      <td>Abam</td>\n",
       "      <td>Aria</td>\n",
       "      <td>ariaebam2006@gmail.com</td>\n",
       "      <td>2023-05-29</td>\n",
       "    </tr>\n",
       "    <tr>\n",
       "      <th>2</th>\n",
       "      <td>Abam</td>\n",
       "      <td>Aria</td>\n",
       "      <td>ariaebam2006@gmail.com</td>\n",
       "      <td>2023-06-04</td>\n",
       "    </tr>\n",
       "    <tr>\n",
       "      <th>3</th>\n",
       "      <td>Abam</td>\n",
       "      <td>Aria</td>\n",
       "      <td>ariaebam2006@gmail.com</td>\n",
       "      <td>2023-06-20</td>\n",
       "    </tr>\n",
       "    <tr>\n",
       "      <th>4</th>\n",
       "      <td>Abam</td>\n",
       "      <td>Aria</td>\n",
       "      <td>ariaebam2006@gmail.com</td>\n",
       "      <td>2023-06-28</td>\n",
       "    </tr>\n",
       "    <tr>\n",
       "      <th>...</th>\n",
       "      <td>...</td>\n",
       "      <td>...</td>\n",
       "      <td>...</td>\n",
       "      <td>...</td>\n",
       "    </tr>\n",
       "    <tr>\n",
       "      <th>9987</th>\n",
       "      <td>von Brachel</td>\n",
       "      <td>Elinor</td>\n",
       "      <td>evonbrachel@gmail.com</td>\n",
       "      <td>2023-07-18</td>\n",
       "    </tr>\n",
       "    <tr>\n",
       "      <th>9988</th>\n",
       "      <td>von Brachel</td>\n",
       "      <td>Elinor</td>\n",
       "      <td>evonbrachel@gmail.com</td>\n",
       "      <td>2023-07-20</td>\n",
       "    </tr>\n",
       "    <tr>\n",
       "      <th>9989</th>\n",
       "      <td>von Brachel</td>\n",
       "      <td>Elinor</td>\n",
       "      <td>evonbrachel@gmail.com</td>\n",
       "      <td>2023-07-27</td>\n",
       "    </tr>\n",
       "    <tr>\n",
       "      <th>9990</th>\n",
       "      <td>von Brachel</td>\n",
       "      <td>Elinor</td>\n",
       "      <td>evonbrachel@gmail.com</td>\n",
       "      <td>2023-08-13</td>\n",
       "    </tr>\n",
       "    <tr>\n",
       "      <th>9991</th>\n",
       "      <td>von Brachel</td>\n",
       "      <td>Elinor</td>\n",
       "      <td>evonbrachel@gmail.com</td>\n",
       "      <td>2023-08-15</td>\n",
       "    </tr>\n",
       "  </tbody>\n",
       "</table>\n",
       "<p>9992 rows × 4 columns</p>\n",
       "</div>"
      ],
      "text/plain": [
       "        Last Name First Name                   Email        Date\n",
       "0            Abam       Aria  ariaebam2006@gmail.com  2023-05-28\n",
       "1            Abam       Aria  ariaebam2006@gmail.com  2023-05-29\n",
       "2            Abam       Aria  ariaebam2006@gmail.com  2023-06-04\n",
       "3            Abam       Aria  ariaebam2006@gmail.com  2023-06-20\n",
       "4            Abam       Aria  ariaebam2006@gmail.com  2023-06-28\n",
       "...           ...        ...                     ...         ...\n",
       "9987  von Brachel     Elinor   evonbrachel@gmail.com  2023-07-18\n",
       "9988  von Brachel     Elinor   evonbrachel@gmail.com  2023-07-20\n",
       "9989  von Brachel     Elinor   evonbrachel@gmail.com  2023-07-27\n",
       "9990  von Brachel     Elinor   evonbrachel@gmail.com  2023-08-13\n",
       "9991  von Brachel     Elinor   evonbrachel@gmail.com  2023-08-15\n",
       "\n",
       "[9992 rows x 4 columns]"
      ]
     },
     "execution_count": 3,
     "metadata": {},
     "output_type": "execute_result"
    }
   ],
   "source": [
    "#filter the relevant data\n",
    "raw_adp_df = raw_adp_df[['Last Name', 'First Name', 'Personal Contact: Personal Email', \n",
    "                         'Time In', 'Pay Code [Timecard]']] #keep these cols\n",
    "raw_adp_df = raw_adp_df.rename(columns={'Personal Contact: Personal Email': 'Email'}) #rename col\n",
    "##raw_adp_df = raw_adp_df[raw_adp_df['Pay Code [Timecard]'] != \"REGSAL\"] #drop managers from the pay data\n",
    "raw_adp_df.loc[:, 'Date'] = raw_adp_df['Time In'].dt.date #make it solely a date col\n",
    "raw_adp_df.drop(columns=['Time In', 'Pay Code [Timecard]'], inplace=True) #then drop orig time in col\n",
    "\n",
    "raw_adp_df"
   ]
  },
  {
   "cell_type": "markdown",
   "id": "3cadb4fd-1b1f-4160-a42f-97c8e590c03e",
   "metadata": {},
   "source": [
    "#### Read In Scheduler Shift Data For Pairing"
   ]
  },
  {
   "cell_type": "code",
   "execution_count": 4,
   "id": "398f15ad-9e64-4e8c-b732-c23456ffccaa",
   "metadata": {},
   "outputs": [],
   "source": [
    "#read in the excel, put into DF\n",
    "raw_scheduler_df = pd.read_excel('inputs/NEW_SchedulerShifts2023.xlsx') #read in the excel, put into DF"
   ]
  },
  {
   "cell_type": "code",
   "execution_count": 5,
   "id": "c541be03-2166-4857-b8ee-a67816a32093",
   "metadata": {},
   "outputs": [
    {
     "data": {
      "text/html": [
       "<div>\n",
       "<style scoped>\n",
       "    .dataframe tbody tr th:only-of-type {\n",
       "        vertical-align: middle;\n",
       "    }\n",
       "\n",
       "    .dataframe tbody tr th {\n",
       "        vertical-align: top;\n",
       "    }\n",
       "\n",
       "    .dataframe thead th {\n",
       "        text-align: right;\n",
       "    }\n",
       "</style>\n",
       "<table border=\"1\" class=\"dataframe\">\n",
       "  <thead>\n",
       "    <tr style=\"text-align: right;\">\n",
       "      <th></th>\n",
       "      <th>assignee_name</th>\n",
       "      <th>role</th>\n",
       "      <th>start_time_est</th>\n",
       "      <th>assignee_email</th>\n",
       "      <th>coverer_name</th>\n",
       "      <th>coverer_email</th>\n",
       "      <th>cover_type</th>\n",
       "      <th>cover_time_est</th>\n",
       "    </tr>\n",
       "  </thead>\n",
       "  <tbody>\n",
       "    <tr>\n",
       "      <th>0</th>\n",
       "      <td>Andrew DeKuyper</td>\n",
       "      <td>3.0</td>\n",
       "      <td>2023-06-25</td>\n",
       "      <td>andrewhdekuyper@gmail.com</td>\n",
       "      <td>NaN</td>\n",
       "      <td>NaN</td>\n",
       "      <td>none</td>\n",
       "      <td>NaN</td>\n",
       "    </tr>\n",
       "    <tr>\n",
       "      <th>1</th>\n",
       "      <td>Osias Williams</td>\n",
       "      <td>3.0</td>\n",
       "      <td>2023-05-29</td>\n",
       "      <td>osiasxwilli@icloud.com</td>\n",
       "      <td>NaN</td>\n",
       "      <td>NaN</td>\n",
       "      <td>none</td>\n",
       "      <td>NaN</td>\n",
       "    </tr>\n",
       "    <tr>\n",
       "      <th>2</th>\n",
       "      <td>Jacob Silber</td>\n",
       "      <td>3.0</td>\n",
       "      <td>2023-05-27</td>\n",
       "      <td>njhype1@gmail.com</td>\n",
       "      <td>NaN</td>\n",
       "      <td>NaN</td>\n",
       "      <td>none</td>\n",
       "      <td>NaN</td>\n",
       "    </tr>\n",
       "    <tr>\n",
       "      <th>3</th>\n",
       "      <td>Kate Niccolai</td>\n",
       "      <td>3.0</td>\n",
       "      <td>2023-06-11</td>\n",
       "      <td>katieniccolai@gmail.com</td>\n",
       "      <td>NaN</td>\n",
       "      <td>NaN</td>\n",
       "      <td>none</td>\n",
       "      <td>NaN</td>\n",
       "    </tr>\n",
       "    <tr>\n",
       "      <th>4</th>\n",
       "      <td>Zachary Liebman</td>\n",
       "      <td>3.0</td>\n",
       "      <td>2023-08-30</td>\n",
       "      <td>zachsliebman@gmail.com</td>\n",
       "      <td>NaN</td>\n",
       "      <td>NaN</td>\n",
       "      <td>none</td>\n",
       "      <td>NaN</td>\n",
       "    </tr>\n",
       "    <tr>\n",
       "      <th>...</th>\n",
       "      <td>...</td>\n",
       "      <td>...</td>\n",
       "      <td>...</td>\n",
       "      <td>...</td>\n",
       "      <td>...</td>\n",
       "      <td>...</td>\n",
       "      <td>...</td>\n",
       "      <td>...</td>\n",
       "    </tr>\n",
       "    <tr>\n",
       "      <th>5636</th>\n",
       "      <td>Leah Gottsegen</td>\n",
       "      <td>3.0</td>\n",
       "      <td>2023-09-04</td>\n",
       "      <td>leahgotts@gmail.com</td>\n",
       "      <td>NaN</td>\n",
       "      <td>NaN</td>\n",
       "      <td>none</td>\n",
       "      <td>NaN</td>\n",
       "    </tr>\n",
       "    <tr>\n",
       "      <th>5637</th>\n",
       "      <td>Leah Gottsegen</td>\n",
       "      <td>3.0</td>\n",
       "      <td>2023-09-03</td>\n",
       "      <td>leahgotts@gmail.com</td>\n",
       "      <td>NaN</td>\n",
       "      <td>NaN</td>\n",
       "      <td>none</td>\n",
       "      <td>NaN</td>\n",
       "    </tr>\n",
       "    <tr>\n",
       "      <th>5638</th>\n",
       "      <td>Danielle Cohen</td>\n",
       "      <td>3.0</td>\n",
       "      <td>2023-09-02</td>\n",
       "      <td>daniellecohenw@gmail.con</td>\n",
       "      <td>NaN</td>\n",
       "      <td>NaN</td>\n",
       "      <td>none</td>\n",
       "      <td>NaN</td>\n",
       "    </tr>\n",
       "    <tr>\n",
       "      <th>5639</th>\n",
       "      <td>Danielle Cohen</td>\n",
       "      <td>3.0</td>\n",
       "      <td>2023-08-28</td>\n",
       "      <td>daniellecohenw@gmail.con</td>\n",
       "      <td>NaN</td>\n",
       "      <td>NaN</td>\n",
       "      <td>none</td>\n",
       "      <td>NaN</td>\n",
       "    </tr>\n",
       "    <tr>\n",
       "      <th>5640</th>\n",
       "      <td>Laana Vasan</td>\n",
       "      <td>3.0</td>\n",
       "      <td>2023-09-02</td>\n",
       "      <td>laanavasan@gmail.com</td>\n",
       "      <td>NaN</td>\n",
       "      <td>NaN</td>\n",
       "      <td>none</td>\n",
       "      <td>NaN</td>\n",
       "    </tr>\n",
       "  </tbody>\n",
       "</table>\n",
       "<p>5641 rows × 8 columns</p>\n",
       "</div>"
      ],
      "text/plain": [
       "        assignee_name  role start_time_est             assignee_email  \\\n",
       "0     Andrew DeKuyper   3.0     2023-06-25  andrewhdekuyper@gmail.com   \n",
       "1      Osias Williams   3.0     2023-05-29     osiasxwilli@icloud.com   \n",
       "2        Jacob Silber   3.0     2023-05-27          njhype1@gmail.com   \n",
       "3       Kate Niccolai   3.0     2023-06-11    katieniccolai@gmail.com   \n",
       "4     Zachary Liebman   3.0     2023-08-30     zachsliebman@gmail.com   \n",
       "...               ...   ...            ...                        ...   \n",
       "5636   Leah Gottsegen   3.0     2023-09-04        leahgotts@gmail.com   \n",
       "5637   Leah Gottsegen   3.0     2023-09-03        leahgotts@gmail.com   \n",
       "5638   Danielle Cohen   3.0     2023-09-02   daniellecohenw@gmail.con   \n",
       "5639   Danielle Cohen   3.0     2023-08-28   daniellecohenw@gmail.con   \n",
       "5640      Laana Vasan   3.0     2023-09-02       laanavasan@gmail.com   \n",
       "\n",
       "     coverer_name coverer_email cover_type cover_time_est  \n",
       "0             NaN           NaN       none            NaN  \n",
       "1             NaN           NaN       none            NaN  \n",
       "2             NaN           NaN       none            NaN  \n",
       "3             NaN           NaN       none            NaN  \n",
       "4             NaN           NaN       none            NaN  \n",
       "...           ...           ...        ...            ...  \n",
       "5636          NaN           NaN       none            NaN  \n",
       "5637          NaN           NaN       none            NaN  \n",
       "5638          NaN           NaN       none            NaN  \n",
       "5639          NaN           NaN       none            NaN  \n",
       "5640          NaN           NaN       none            NaN  \n",
       "\n",
       "[5641 rows x 8 columns]"
      ]
     },
     "execution_count": 5,
     "metadata": {},
     "output_type": "execute_result"
    }
   ],
   "source": [
    "#filter the relevant data\n",
    "raw_scheduler_df = raw_scheduler_df.drop(columns=[\"epoch_start_time\", \"cover_time\"]) #drop these cols\n",
    "\n",
    "#can drop any rows that have cover_type full and role = 2 \n",
    "# b/c cover_type full either means request in future or was not taken\n",
    "# 2 = manager so not relevant \n",
    "##raw_scheduler_df = raw_scheduler_df[~((raw_scheduler_df['role'] == 2.0) | \n",
    "##                                      (raw_scheduler_df['cover_type'] == 'full'))]\n",
    "\n",
    "raw_scheduler_df['start_time_est'] = raw_scheduler_df['start_time_est'].dt.date #convert to just date \n",
    "raw_scheduler_df['cover_time_est'] = raw_scheduler_df['cover_time_est'].dt.date #convert to just date \n",
    "\n",
    "raw_scheduler_df"
   ]
  },
  {
   "cell_type": "code",
   "execution_count": 6,
   "id": "72848067-19ee-4aee-b3a7-4d6adf075bc4",
   "metadata": {},
   "outputs": [],
   "source": [
    "#extract the coverers to a new DF\n",
    "cover_sch_df = raw_scheduler_df[raw_scheduler_df['cover_type'].isin(['before', 'after'])][['coverer_name', \n",
    "                                                                                           'coverer_email', \n",
    "                                                                                           'role', \n",
    "                                                                                           'cover_time_est']]\n",
    "cover_sch_df.rename(columns={'coverer_name': 'assignee_name', \n",
    "                             'coverer_email': 'assignee_email', \n",
    "                             'cover_time_est': 'start_time_est'}, inplace=True)"
   ]
  },
  {
   "cell_type": "code",
   "execution_count": 7,
   "id": "1360cf1a-9a1c-4f52-84a9-fc5df4776f36",
   "metadata": {},
   "outputs": [],
   "source": [
    "#combine the original DF with the coverer DF to make one final shift DF\n",
    "all_sch_df = pd.concat([raw_scheduler_df, cover_sch_df], ignore_index=True)\n",
    "all_sch_df.drop(columns=['role', 'coverer_name', 'cover_type', 'cover_time_est', 'coverer_email'], inplace=True) #drop unneeded columns"
   ]
  },
  {
   "cell_type": "code",
   "execution_count": 8,
   "id": "de8c925f-fc85-4487-978c-ce49b7f02e75",
   "metadata": {},
   "outputs": [
    {
     "data": {
      "text/html": [
       "<div>\n",
       "<style scoped>\n",
       "    .dataframe tbody tr th:only-of-type {\n",
       "        vertical-align: middle;\n",
       "    }\n",
       "\n",
       "    .dataframe tbody tr th {\n",
       "        vertical-align: top;\n",
       "    }\n",
       "\n",
       "    .dataframe thead th {\n",
       "        text-align: right;\n",
       "    }\n",
       "</style>\n",
       "<table border=\"1\" class=\"dataframe\">\n",
       "  <thead>\n",
       "    <tr style=\"text-align: right;\">\n",
       "      <th></th>\n",
       "      <th>assignee_name</th>\n",
       "      <th>start_time_est</th>\n",
       "      <th>assignee_email</th>\n",
       "      <th>First Name</th>\n",
       "      <th>Last Name</th>\n",
       "    </tr>\n",
       "  </thead>\n",
       "  <tbody>\n",
       "    <tr>\n",
       "      <th>0</th>\n",
       "      <td>Andrew DeKuyper</td>\n",
       "      <td>2023-06-25</td>\n",
       "      <td>andrewhdekuyper@gmail.com</td>\n",
       "      <td>Andrew</td>\n",
       "      <td>DeKuyper</td>\n",
       "    </tr>\n",
       "    <tr>\n",
       "      <th>1</th>\n",
       "      <td>Osias Williams</td>\n",
       "      <td>2023-05-29</td>\n",
       "      <td>osiasxwilli@icloud.com</td>\n",
       "      <td>Osias</td>\n",
       "      <td>Williams</td>\n",
       "    </tr>\n",
       "    <tr>\n",
       "      <th>2</th>\n",
       "      <td>Jacob Silber</td>\n",
       "      <td>2023-05-27</td>\n",
       "      <td>njhype1@gmail.com</td>\n",
       "      <td>Jacob</td>\n",
       "      <td>Silber</td>\n",
       "    </tr>\n",
       "    <tr>\n",
       "      <th>3</th>\n",
       "      <td>Kate Niccolai</td>\n",
       "      <td>2023-06-11</td>\n",
       "      <td>katieniccolai@gmail.com</td>\n",
       "      <td>Kate</td>\n",
       "      <td>Niccolai</td>\n",
       "    </tr>\n",
       "    <tr>\n",
       "      <th>4</th>\n",
       "      <td>Zachary Liebman</td>\n",
       "      <td>2023-08-30</td>\n",
       "      <td>zachsliebman@gmail.com</td>\n",
       "      <td>Zachary</td>\n",
       "      <td>Liebman</td>\n",
       "    </tr>\n",
       "    <tr>\n",
       "      <th>...</th>\n",
       "      <td>...</td>\n",
       "      <td>...</td>\n",
       "      <td>...</td>\n",
       "      <td>...</td>\n",
       "      <td>...</td>\n",
       "    </tr>\n",
       "    <tr>\n",
       "      <th>5740</th>\n",
       "      <td>NaN</td>\n",
       "      <td>2023-08-10</td>\n",
       "      <td>NaN</td>\n",
       "      <td>NaN</td>\n",
       "      <td>NaN</td>\n",
       "    </tr>\n",
       "    <tr>\n",
       "      <th>5741</th>\n",
       "      <td>Megan D’Alessandro</td>\n",
       "      <td>2023-08-12</td>\n",
       "      <td>me.dalessandro@icloud.com</td>\n",
       "      <td>Megan</td>\n",
       "      <td>D’Alessandro</td>\n",
       "    </tr>\n",
       "    <tr>\n",
       "      <th>5742</th>\n",
       "      <td>NaN</td>\n",
       "      <td>2023-08-14</td>\n",
       "      <td>NaN</td>\n",
       "      <td>NaN</td>\n",
       "      <td>NaN</td>\n",
       "    </tr>\n",
       "    <tr>\n",
       "      <th>5743</th>\n",
       "      <td>NaN</td>\n",
       "      <td>2023-08-21</td>\n",
       "      <td>NaN</td>\n",
       "      <td>NaN</td>\n",
       "      <td>NaN</td>\n",
       "    </tr>\n",
       "    <tr>\n",
       "      <th>5744</th>\n",
       "      <td>NaN</td>\n",
       "      <td>2023-08-25</td>\n",
       "      <td>NaN</td>\n",
       "      <td>NaN</td>\n",
       "      <td>NaN</td>\n",
       "    </tr>\n",
       "  </tbody>\n",
       "</table>\n",
       "<p>5745 rows × 5 columns</p>\n",
       "</div>"
      ],
      "text/plain": [
       "           assignee_name start_time_est             assignee_email First Name  \\\n",
       "0        Andrew DeKuyper     2023-06-25  andrewhdekuyper@gmail.com     Andrew   \n",
       "1         Osias Williams     2023-05-29     osiasxwilli@icloud.com      Osias   \n",
       "2           Jacob Silber     2023-05-27          njhype1@gmail.com      Jacob   \n",
       "3          Kate Niccolai     2023-06-11    katieniccolai@gmail.com       Kate   \n",
       "4        Zachary Liebman     2023-08-30     zachsliebman@gmail.com    Zachary   \n",
       "...                  ...            ...                        ...        ...   \n",
       "5740                 NaN     2023-08-10                        NaN        NaN   \n",
       "5741  Megan D’Alessandro     2023-08-12  me.dalessandro@icloud.com      Megan   \n",
       "5742                 NaN     2023-08-14                        NaN        NaN   \n",
       "5743                 NaN     2023-08-21                        NaN        NaN   \n",
       "5744                 NaN     2023-08-25                        NaN        NaN   \n",
       "\n",
       "         Last Name  \n",
       "0         DeKuyper  \n",
       "1         Williams  \n",
       "2           Silber  \n",
       "3         Niccolai  \n",
       "4          Liebman  \n",
       "...            ...  \n",
       "5740           NaN  \n",
       "5741  D’Alessandro  \n",
       "5742           NaN  \n",
       "5743           NaN  \n",
       "5744           NaN  \n",
       "\n",
       "[5745 rows x 5 columns]"
      ]
     },
     "execution_count": 8,
     "metadata": {},
     "output_type": "execute_result"
    }
   ],
   "source": [
    "#split name into first and last\n",
    "split_names = all_sch_df['assignee_name'].str.split()\n",
    "all_sch_df['First Name'] = split_names.str[0]\n",
    "all_sch_df['Last Name'] = split_names.str[1:].str.join(' ')\n",
    "\n",
    "all_sch_df"
   ]
  },
  {
   "cell_type": "markdown",
   "id": "2cfa4c4a-0e26-4852-93dc-72848161ef7f",
   "metadata": {},
   "source": [
    "#### Define Timeframe Set to All Data"
   ]
  },
  {
   "cell_type": "code",
   "execution_count": 9,
   "id": "a92cd0d5-7ac3-43fd-bd08-c0e16f67e1a6",
   "metadata": {},
   "outputs": [],
   "source": [
    "start_date = pd.Timestamp('2023-04-01').date()\n",
    "end_date = pd.Timestamp('2023-08-21').date()\n",
    "\n",
    "sch_timeframe_df = all_sch_df[(all_sch_df['start_time_est'] >= start_date) & \n",
    "                              (all_sch_df['start_time_est'] <= end_date)]\n",
    "\n",
    "adp_timeframe_df = raw_adp_df[(raw_adp_df['Date'] >= start_date) & \n",
    "                              (raw_adp_df['Date'] <= end_date)]"
   ]
  },
  {
   "cell_type": "code",
   "execution_count": 10,
   "id": "e4d32f85-e5bb-4fea-8764-4faf8fca3c60",
   "metadata": {},
   "outputs": [
    {
     "data": {
      "text/html": [
       "<div>\n",
       "<style scoped>\n",
       "    .dataframe tbody tr th:only-of-type {\n",
       "        vertical-align: middle;\n",
       "    }\n",
       "\n",
       "    .dataframe tbody tr th {\n",
       "        vertical-align: top;\n",
       "    }\n",
       "\n",
       "    .dataframe thead th {\n",
       "        text-align: right;\n",
       "    }\n",
       "</style>\n",
       "<table border=\"1\" class=\"dataframe\">\n",
       "  <thead>\n",
       "    <tr style=\"text-align: right;\">\n",
       "      <th></th>\n",
       "      <th>assignee_name</th>\n",
       "      <th>start_time_est</th>\n",
       "      <th>assignee_email</th>\n",
       "      <th>First Name</th>\n",
       "      <th>Last Name</th>\n",
       "    </tr>\n",
       "  </thead>\n",
       "  <tbody>\n",
       "    <tr>\n",
       "      <th>0</th>\n",
       "      <td>Andrew DeKuyper</td>\n",
       "      <td>2023-06-25</td>\n",
       "      <td>andrewhdekuyper@gmail.com</td>\n",
       "      <td>Andrew</td>\n",
       "      <td>DeKuyper</td>\n",
       "    </tr>\n",
       "    <tr>\n",
       "      <th>1</th>\n",
       "      <td>Osias Williams</td>\n",
       "      <td>2023-05-29</td>\n",
       "      <td>osiasxwilli@icloud.com</td>\n",
       "      <td>Osias</td>\n",
       "      <td>Williams</td>\n",
       "    </tr>\n",
       "    <tr>\n",
       "      <th>2</th>\n",
       "      <td>Jacob Silber</td>\n",
       "      <td>2023-05-27</td>\n",
       "      <td>njhype1@gmail.com</td>\n",
       "      <td>Jacob</td>\n",
       "      <td>Silber</td>\n",
       "    </tr>\n",
       "    <tr>\n",
       "      <th>3</th>\n",
       "      <td>Kate Niccolai</td>\n",
       "      <td>2023-06-11</td>\n",
       "      <td>katieniccolai@gmail.com</td>\n",
       "      <td>Kate</td>\n",
       "      <td>Niccolai</td>\n",
       "    </tr>\n",
       "    <tr>\n",
       "      <th>5</th>\n",
       "      <td>Joseph Pierro</td>\n",
       "      <td>2023-07-04</td>\n",
       "      <td>jvp4805@gmail.com</td>\n",
       "      <td>Joseph</td>\n",
       "      <td>Pierro</td>\n",
       "    </tr>\n",
       "    <tr>\n",
       "      <th>...</th>\n",
       "      <td>...</td>\n",
       "      <td>...</td>\n",
       "      <td>...</td>\n",
       "      <td>...</td>\n",
       "      <td>...</td>\n",
       "    </tr>\n",
       "    <tr>\n",
       "      <th>5736</th>\n",
       "      <td>NaN</td>\n",
       "      <td>2023-08-19</td>\n",
       "      <td>NaN</td>\n",
       "      <td>NaN</td>\n",
       "      <td>NaN</td>\n",
       "    </tr>\n",
       "    <tr>\n",
       "      <th>5740</th>\n",
       "      <td>NaN</td>\n",
       "      <td>2023-08-10</td>\n",
       "      <td>NaN</td>\n",
       "      <td>NaN</td>\n",
       "      <td>NaN</td>\n",
       "    </tr>\n",
       "    <tr>\n",
       "      <th>5741</th>\n",
       "      <td>Megan D’Alessandro</td>\n",
       "      <td>2023-08-12</td>\n",
       "      <td>me.dalessandro@icloud.com</td>\n",
       "      <td>Megan</td>\n",
       "      <td>D’Alessandro</td>\n",
       "    </tr>\n",
       "    <tr>\n",
       "      <th>5742</th>\n",
       "      <td>NaN</td>\n",
       "      <td>2023-08-14</td>\n",
       "      <td>NaN</td>\n",
       "      <td>NaN</td>\n",
       "      <td>NaN</td>\n",
       "    </tr>\n",
       "    <tr>\n",
       "      <th>5743</th>\n",
       "      <td>NaN</td>\n",
       "      <td>2023-08-21</td>\n",
       "      <td>NaN</td>\n",
       "      <td>NaN</td>\n",
       "      <td>NaN</td>\n",
       "    </tr>\n",
       "  </tbody>\n",
       "</table>\n",
       "<p>4795 rows × 5 columns</p>\n",
       "</div>"
      ],
      "text/plain": [
       "           assignee_name start_time_est             assignee_email First Name  \\\n",
       "0        Andrew DeKuyper     2023-06-25  andrewhdekuyper@gmail.com     Andrew   \n",
       "1         Osias Williams     2023-05-29     osiasxwilli@icloud.com      Osias   \n",
       "2           Jacob Silber     2023-05-27          njhype1@gmail.com      Jacob   \n",
       "3          Kate Niccolai     2023-06-11    katieniccolai@gmail.com       Kate   \n",
       "5          Joseph Pierro     2023-07-04          jvp4805@gmail.com     Joseph   \n",
       "...                  ...            ...                        ...        ...   \n",
       "5736                 NaN     2023-08-19                        NaN        NaN   \n",
       "5740                 NaN     2023-08-10                        NaN        NaN   \n",
       "5741  Megan D’Alessandro     2023-08-12  me.dalessandro@icloud.com      Megan   \n",
       "5742                 NaN     2023-08-14                        NaN        NaN   \n",
       "5743                 NaN     2023-08-21                        NaN        NaN   \n",
       "\n",
       "         Last Name  \n",
       "0         DeKuyper  \n",
       "1         Williams  \n",
       "2           Silber  \n",
       "3         Niccolai  \n",
       "5           Pierro  \n",
       "...            ...  \n",
       "5736           NaN  \n",
       "5740           NaN  \n",
       "5741  D’Alessandro  \n",
       "5742           NaN  \n",
       "5743           NaN  \n",
       "\n",
       "[4795 rows x 5 columns]"
      ]
     },
     "execution_count": 10,
     "metadata": {},
     "output_type": "execute_result"
    }
   ],
   "source": [
    "sch_timeframe_df"
   ]
  },
  {
   "cell_type": "code",
   "execution_count": 11,
   "id": "35c93c61-2ddd-4dc7-a166-5c6fdf9a4d38",
   "metadata": {},
   "outputs": [
    {
     "data": {
      "text/html": [
       "<div>\n",
       "<style scoped>\n",
       "    .dataframe tbody tr th:only-of-type {\n",
       "        vertical-align: middle;\n",
       "    }\n",
       "\n",
       "    .dataframe tbody tr th {\n",
       "        vertical-align: top;\n",
       "    }\n",
       "\n",
       "    .dataframe thead th {\n",
       "        text-align: right;\n",
       "    }\n",
       "</style>\n",
       "<table border=\"1\" class=\"dataframe\">\n",
       "  <thead>\n",
       "    <tr style=\"text-align: right;\">\n",
       "      <th></th>\n",
       "      <th>Last Name</th>\n",
       "      <th>First Name</th>\n",
       "      <th>Email</th>\n",
       "      <th>Date</th>\n",
       "    </tr>\n",
       "  </thead>\n",
       "  <tbody>\n",
       "    <tr>\n",
       "      <th>0</th>\n",
       "      <td>Abam</td>\n",
       "      <td>Aria</td>\n",
       "      <td>ariaebam2006@gmail.com</td>\n",
       "      <td>2023-05-28</td>\n",
       "    </tr>\n",
       "    <tr>\n",
       "      <th>1</th>\n",
       "      <td>Abam</td>\n",
       "      <td>Aria</td>\n",
       "      <td>ariaebam2006@gmail.com</td>\n",
       "      <td>2023-05-29</td>\n",
       "    </tr>\n",
       "    <tr>\n",
       "      <th>2</th>\n",
       "      <td>Abam</td>\n",
       "      <td>Aria</td>\n",
       "      <td>ariaebam2006@gmail.com</td>\n",
       "      <td>2023-06-04</td>\n",
       "    </tr>\n",
       "    <tr>\n",
       "      <th>3</th>\n",
       "      <td>Abam</td>\n",
       "      <td>Aria</td>\n",
       "      <td>ariaebam2006@gmail.com</td>\n",
       "      <td>2023-06-20</td>\n",
       "    </tr>\n",
       "    <tr>\n",
       "      <th>4</th>\n",
       "      <td>Abam</td>\n",
       "      <td>Aria</td>\n",
       "      <td>ariaebam2006@gmail.com</td>\n",
       "      <td>2023-06-28</td>\n",
       "    </tr>\n",
       "    <tr>\n",
       "      <th>...</th>\n",
       "      <td>...</td>\n",
       "      <td>...</td>\n",
       "      <td>...</td>\n",
       "      <td>...</td>\n",
       "    </tr>\n",
       "    <tr>\n",
       "      <th>9987</th>\n",
       "      <td>von Brachel</td>\n",
       "      <td>Elinor</td>\n",
       "      <td>evonbrachel@gmail.com</td>\n",
       "      <td>2023-07-18</td>\n",
       "    </tr>\n",
       "    <tr>\n",
       "      <th>9988</th>\n",
       "      <td>von Brachel</td>\n",
       "      <td>Elinor</td>\n",
       "      <td>evonbrachel@gmail.com</td>\n",
       "      <td>2023-07-20</td>\n",
       "    </tr>\n",
       "    <tr>\n",
       "      <th>9989</th>\n",
       "      <td>von Brachel</td>\n",
       "      <td>Elinor</td>\n",
       "      <td>evonbrachel@gmail.com</td>\n",
       "      <td>2023-07-27</td>\n",
       "    </tr>\n",
       "    <tr>\n",
       "      <th>9990</th>\n",
       "      <td>von Brachel</td>\n",
       "      <td>Elinor</td>\n",
       "      <td>evonbrachel@gmail.com</td>\n",
       "      <td>2023-08-13</td>\n",
       "    </tr>\n",
       "    <tr>\n",
       "      <th>9991</th>\n",
       "      <td>von Brachel</td>\n",
       "      <td>Elinor</td>\n",
       "      <td>evonbrachel@gmail.com</td>\n",
       "      <td>2023-08-15</td>\n",
       "    </tr>\n",
       "  </tbody>\n",
       "</table>\n",
       "<p>9963 rows × 4 columns</p>\n",
       "</div>"
      ],
      "text/plain": [
       "        Last Name First Name                   Email        Date\n",
       "0            Abam       Aria  ariaebam2006@gmail.com  2023-05-28\n",
       "1            Abam       Aria  ariaebam2006@gmail.com  2023-05-29\n",
       "2            Abam       Aria  ariaebam2006@gmail.com  2023-06-04\n",
       "3            Abam       Aria  ariaebam2006@gmail.com  2023-06-20\n",
       "4            Abam       Aria  ariaebam2006@gmail.com  2023-06-28\n",
       "...           ...        ...                     ...         ...\n",
       "9987  von Brachel     Elinor   evonbrachel@gmail.com  2023-07-18\n",
       "9988  von Brachel     Elinor   evonbrachel@gmail.com  2023-07-20\n",
       "9989  von Brachel     Elinor   evonbrachel@gmail.com  2023-07-27\n",
       "9990  von Brachel     Elinor   evonbrachel@gmail.com  2023-08-13\n",
       "9991  von Brachel     Elinor   evonbrachel@gmail.com  2023-08-15\n",
       "\n",
       "[9963 rows x 4 columns]"
      ]
     },
     "execution_count": 11,
     "metadata": {},
     "output_type": "execute_result"
    }
   ],
   "source": [
    "adp_timeframe_df"
   ]
  },
  {
   "cell_type": "markdown",
   "id": "2e316f76-81c5-435d-84c0-030f9dfa7cfc",
   "metadata": {},
   "source": [
    "#### Grouping - Count Shifts"
   ]
  },
  {
   "cell_type": "code",
   "execution_count": 12,
   "id": "7d7fd7c3-c0d8-4982-8483-6417fe8ab209",
   "metadata": {},
   "outputs": [
    {
     "data": {
      "text/html": [
       "<div>\n",
       "<style scoped>\n",
       "    .dataframe tbody tr th:only-of-type {\n",
       "        vertical-align: middle;\n",
       "    }\n",
       "\n",
       "    .dataframe tbody tr th {\n",
       "        vertical-align: top;\n",
       "    }\n",
       "\n",
       "    .dataframe thead th {\n",
       "        text-align: right;\n",
       "    }\n",
       "</style>\n",
       "<table border=\"1\" class=\"dataframe\">\n",
       "  <thead>\n",
       "    <tr style=\"text-align: right;\">\n",
       "      <th></th>\n",
       "      <th>Email</th>\n",
       "      <th>First Name</th>\n",
       "      <th>Last Name</th>\n",
       "      <th>ADP_Count</th>\n",
       "    </tr>\n",
       "  </thead>\n",
       "  <tbody>\n",
       "    <tr>\n",
       "      <th>58</th>\n",
       "      <td>ariaebam2006@gmail.com</td>\n",
       "      <td>Aria</td>\n",
       "      <td>Abam</td>\n",
       "      <td>18</td>\n",
       "    </tr>\n",
       "    <tr>\n",
       "      <th>303</th>\n",
       "      <td>katieacken915@gmail.com</td>\n",
       "      <td>Katie</td>\n",
       "      <td>Acken</td>\n",
       "      <td>28</td>\n",
       "    </tr>\n",
       "    <tr>\n",
       "      <th>51</th>\n",
       "      <td>andrewadvani1815@gmail.com</td>\n",
       "      <td>Andrew</td>\n",
       "      <td>Advani</td>\n",
       "      <td>13</td>\n",
       "    </tr>\n",
       "    <tr>\n",
       "      <th>14</th>\n",
       "      <td>Meow0821@gmail.com</td>\n",
       "      <td>Lukas</td>\n",
       "      <td>Alexander</td>\n",
       "      <td>31</td>\n",
       "    </tr>\n",
       "    <tr>\n",
       "      <th>144</th>\n",
       "      <td>dbalex8@gmail.com</td>\n",
       "      <td>Drew</td>\n",
       "      <td>Alexopoulos</td>\n",
       "      <td>30</td>\n",
       "    </tr>\n",
       "    <tr>\n",
       "      <th>...</th>\n",
       "      <td>...</td>\n",
       "      <td>...</td>\n",
       "      <td>...</td>\n",
       "      <td>...</td>\n",
       "    </tr>\n",
       "    <tr>\n",
       "      <th>393</th>\n",
       "      <td>mrzebrauskas@icloud.com</td>\n",
       "      <td>Mia</td>\n",
       "      <td>Zebrauskas</td>\n",
       "      <td>18</td>\n",
       "    </tr>\n",
       "    <tr>\n",
       "      <th>298</th>\n",
       "      <td>kamran.ziaee@googlemail.com</td>\n",
       "      <td>Armin</td>\n",
       "      <td>Ziaee</td>\n",
       "      <td>7</td>\n",
       "    </tr>\n",
       "    <tr>\n",
       "      <th>492</th>\n",
       "      <td>taylorzinnie@gmail.com</td>\n",
       "      <td>Taylor</td>\n",
       "      <td>Zinnie</td>\n",
       "      <td>27</td>\n",
       "    </tr>\n",
       "    <tr>\n",
       "      <th>75</th>\n",
       "      <td>azotos101@yahoo.com</td>\n",
       "      <td>Alexandra</td>\n",
       "      <td>Zotos</td>\n",
       "      <td>25</td>\n",
       "    </tr>\n",
       "    <tr>\n",
       "      <th>194</th>\n",
       "      <td>evonbrachel@gmail.com</td>\n",
       "      <td>Elinor</td>\n",
       "      <td>von Brachel</td>\n",
       "      <td>14</td>\n",
       "    </tr>\n",
       "  </tbody>\n",
       "</table>\n",
       "<p>524 rows × 4 columns</p>\n",
       "</div>"
      ],
      "text/plain": [
       "                           Email First Name    Last Name  ADP_Count\n",
       "58        ariaebam2006@gmail.com       Aria         Abam         18\n",
       "303      katieacken915@gmail.com      Katie        Acken         28\n",
       "51    andrewadvani1815@gmail.com     Andrew       Advani         13\n",
       "14            Meow0821@gmail.com      Lukas    Alexander         31\n",
       "144            dbalex8@gmail.com       Drew  Alexopoulos         30\n",
       "..                           ...        ...          ...        ...\n",
       "393      mrzebrauskas@icloud.com        Mia   Zebrauskas         18\n",
       "298  kamran.ziaee@googlemail.com      Armin        Ziaee          7\n",
       "492       taylorzinnie@gmail.com     Taylor       Zinnie         27\n",
       "75           azotos101@yahoo.com  Alexandra        Zotos         25\n",
       "194        evonbrachel@gmail.com     Elinor  von Brachel         14\n",
       "\n",
       "[524 rows x 4 columns]"
      ]
     },
     "execution_count": 12,
     "metadata": {},
     "output_type": "execute_result"
    }
   ],
   "source": [
    "adp_grouped_df = adp_timeframe_df.groupby(['Email', 'First Name', 'Last Name']).size().reset_index(name='ADP_Count')\n",
    "adp_grouped_df = adp_grouped_df.sort_values(by='Last Name') #sort by last name\n",
    "adp_grouped_df"
   ]
  },
  {
   "cell_type": "code",
   "execution_count": 13,
   "id": "6f2c6913-0d8c-4af6-bf34-21a84f3d015d",
   "metadata": {},
   "outputs": [
    {
     "data": {
      "text/html": [
       "<div>\n",
       "<style scoped>\n",
       "    .dataframe tbody tr th:only-of-type {\n",
       "        vertical-align: middle;\n",
       "    }\n",
       "\n",
       "    .dataframe tbody tr th {\n",
       "        vertical-align: top;\n",
       "    }\n",
       "\n",
       "    .dataframe thead th {\n",
       "        text-align: right;\n",
       "    }\n",
       "</style>\n",
       "<table border=\"1\" class=\"dataframe\">\n",
       "  <thead>\n",
       "    <tr style=\"text-align: right;\">\n",
       "      <th></th>\n",
       "      <th>assignee_email</th>\n",
       "      <th>First Name</th>\n",
       "      <th>Last Name</th>\n",
       "      <th>Sch_Count</th>\n",
       "    </tr>\n",
       "  </thead>\n",
       "  <tbody>\n",
       "    <tr>\n",
       "      <th>163</th>\n",
       "      <td>ianbigelow2@gmail.com</td>\n",
       "      <td>Ian</td>\n",
       "      <td></td>\n",
       "      <td>1</td>\n",
       "    </tr>\n",
       "    <tr>\n",
       "      <th>244</th>\n",
       "      <td>lilligump@icloud.com</td>\n",
       "      <td>Liana</td>\n",
       "      <td></td>\n",
       "      <td>25</td>\n",
       "    </tr>\n",
       "    <tr>\n",
       "      <th>118</th>\n",
       "      <td>elenalynott@gmail.com</td>\n",
       "      <td>Elena</td>\n",
       "      <td></td>\n",
       "      <td>27</td>\n",
       "    </tr>\n",
       "    <tr>\n",
       "      <th>82</th>\n",
       "      <td>conormreilly9@icloud.com</td>\n",
       "      <td>Conor</td>\n",
       "      <td></td>\n",
       "      <td>6</td>\n",
       "    </tr>\n",
       "    <tr>\n",
       "      <th>279</th>\n",
       "      <td>myroyalgils@gmail.com</td>\n",
       "      <td>Gila</td>\n",
       "      <td></td>\n",
       "      <td>1</td>\n",
       "    </tr>\n",
       "    <tr>\n",
       "      <th>...</th>\n",
       "      <td>...</td>\n",
       "      <td>...</td>\n",
       "      <td>...</td>\n",
       "      <td>...</td>\n",
       "    </tr>\n",
       "    <tr>\n",
       "      <th>242</th>\n",
       "      <td>liampreilly824@gmail.com</td>\n",
       "      <td>Liam</td>\n",
       "      <td>reilly</td>\n",
       "      <td>9</td>\n",
       "    </tr>\n",
       "    <tr>\n",
       "      <th>325</th>\n",
       "      <td>samrinn2004@gmail.com</td>\n",
       "      <td>Samuel</td>\n",
       "      <td>rinn</td>\n",
       "      <td>35</td>\n",
       "    </tr>\n",
       "    <tr>\n",
       "      <th>204</th>\n",
       "      <td>jrod050506@gmail.com</td>\n",
       "      <td>Jayden</td>\n",
       "      <td>rodriguez</td>\n",
       "      <td>22</td>\n",
       "    </tr>\n",
       "    <tr>\n",
       "      <th>354</th>\n",
       "      <td>stevensconnor40@gmail.com</td>\n",
       "      <td>connor</td>\n",
       "      <td>stevens</td>\n",
       "      <td>6</td>\n",
       "    </tr>\n",
       "    <tr>\n",
       "      <th>363</th>\n",
       "      <td>ting-yu.lee@lps-students.org</td>\n",
       "      <td>Ting</td>\n",
       "      <td>yu Lee</td>\n",
       "      <td>8</td>\n",
       "    </tr>\n",
       "  </tbody>\n",
       "</table>\n",
       "<p>386 rows × 4 columns</p>\n",
       "</div>"
      ],
      "text/plain": [
       "                   assignee_email First Name  Last Name  Sch_Count\n",
       "163         ianbigelow2@gmail.com        Ian                     1\n",
       "244          lilligump@icloud.com      Liana                    25\n",
       "118         elenalynott@gmail.com      Elena                    27\n",
       "82       conormreilly9@icloud.com      Conor                     6\n",
       "279         myroyalgils@gmail.com       Gila                     1\n",
       "..                            ...        ...        ...        ...\n",
       "242      liampreilly824@gmail.com       Liam     reilly          9\n",
       "325         samrinn2004@gmail.com     Samuel       rinn         35\n",
       "204          jrod050506@gmail.com     Jayden  rodriguez         22\n",
       "354     stevensconnor40@gmail.com     connor    stevens          6\n",
       "363  ting-yu.lee@lps-students.org       Ting     yu Lee          8\n",
       "\n",
       "[386 rows x 4 columns]"
      ]
     },
     "execution_count": 13,
     "metadata": {},
     "output_type": "execute_result"
    }
   ],
   "source": [
    "sch_grouped_df = sch_timeframe_df.groupby(['assignee_email', 'First Name', 'Last Name']).size().reset_index(name='Sch_Count') #find count per person\n",
    "sch_grouped_df = sch_grouped_df.sort_values(by='Last Name') #sort by last name\n",
    "sch_grouped_df"
   ]
  },
  {
   "cell_type": "markdown",
   "id": "122c14d6-6cae-4f66-b06e-01b23d52b4b3",
   "metadata": {},
   "source": [
    "#### Create Pairing Table"
   ]
  },
  {
   "cell_type": "code",
   "execution_count": 14,
   "id": "2d9ef720-116c-4a75-8b1b-afe73d0614bd",
   "metadata": {},
   "outputs": [],
   "source": [
    "def normalize_name(name):\n",
    "    return name.strip().lower()\n",
    "\n",
    "def normalize_email(email):\n",
    "    return email.strip().lower()\n",
    "\n",
    "#Function to match ADP to Scheduler using a variety of techniques\n",
    "def create_merged_df8(adp_grouped_df, sch_grouped_df):\n",
    "    merged_records = []\n",
    "    unmatched_sch_records = []\n",
    "\n",
    "    for sch_index, sch_row in sch_grouped_df.iterrows():\n",
    "        normalized_assignee_email = normalize_email(sch_row['assignee_email'])\n",
    "\n",
    "        matching_email_rows = adp_grouped_df[adp_grouped_df['Email'].apply(normalize_email) == normalized_assignee_email]\n",
    "        \n",
    "        if not matching_email_rows.empty:\n",
    "            for _, matching_row in matching_email_rows.iterrows():\n",
    "                merged_records.append([\n",
    "                    matching_row['Email'], matching_row['First Name'], matching_row['Last Name'], matching_row['ADP_Count'],\n",
    "                    sch_row['assignee_email'], sch_row['First Name'], sch_row['Last Name'], sch_row['Sch_Count'], 'email'\n",
    "                ])\n",
    "        else:\n",
    "            # Check for exact first name and last name match\n",
    "            exact_name_match_rows = adp_grouped_df[\n",
    "                (adp_grouped_df['First Name'].apply(normalize_name) == normalize_name(sch_row['First Name'])) &\n",
    "                (adp_grouped_df['Last Name'].apply(normalize_name) == normalize_name(sch_row['Last Name']))\n",
    "            ]\n",
    "            \n",
    "            if not exact_name_match_rows.empty:\n",
    "                for _, matching_row in exact_name_match_rows.iterrows():\n",
    "                    merged_records.append([\n",
    "                        matching_row['Email'], matching_row['First Name'], matching_row['Last Name'], matching_row['ADP_Count'],\n",
    "                        sch_row['assignee_email'], sch_row['First Name'], sch_row['Last Name'], sch_row['Sch_Count'], 'name_exact'\n",
    "                    ])\n",
    "            else:\n",
    "                # Check for first initial and last name match or first name and last initial match\n",
    "                if sch_row['Last Name']:  # Check if 'Last Name' is not empty\n",
    "                    initial_match_rows = adp_grouped_df[\n",
    "                        ((adp_grouped_df['First Name'].str[0] == sch_row['First Name'][0]) &\n",
    "                         (adp_grouped_df['Last Name'] == sch_row['Last Name'])) |\n",
    "                        ((adp_grouped_df['First Name'] == sch_row['First Name']) &\n",
    "                         (adp_grouped_df['Last Name'].str[0] == sch_row['Last Name'][0]))\n",
    "                    ]\n",
    "                \n",
    "                    if not initial_match_rows.empty:\n",
    "                        for _, matching_row in initial_match_rows.iterrows():\n",
    "                            merged_records.append([\n",
    "                                matching_row['Email'], matching_row['First Name'], matching_row['Last Name'], matching_row['ADP_Count'],\n",
    "                                sch_row['assignee_email'], sch_row['First Name'], sch_row['Last Name'], sch_row['Sch_Count'], 'name_portion'\n",
    "                            ])\n",
    "                    else:\n",
    "                        unmatched_sch_records.append(sch_row)\n",
    "                else:\n",
    "                    unmatched_sch_records.append(sch_row)  # Handle empty 'Last Name'\n",
    "\n",
    "    # Create a DataFrame from the collected records\n",
    "    merged_df = pd.DataFrame(merged_records, columns=[\n",
    "        'Email_ADP', 'First_Name_ADP', 'Last_Name_ADP', 'ADP_Count',\n",
    "        'Email_Sch', 'First_Name_Sch', 'Last_Name_Sch', 'Sch_Count', 'Matched?'\n",
    "    ])\n",
    "    \n",
    "    # Create a DataFrame for unmatched rows from sch_grouped_df\n",
    "    unmatched_sch_df = pd.DataFrame(unmatched_sch_records, columns=sch_grouped_df.columns)\n",
    "    \n",
    "    # Append unmatched rows to the merged_df with 'none' in the 'Matched?' column\n",
    "    unmatched_rows = pd.DataFrame({\n",
    "        'Email_ADP': None,\n",
    "        'First_Name_ADP': None,\n",
    "        'Last_Name_ADP': None,\n",
    "        'ADP_Count': None,\n",
    "        'Email_Sch': unmatched_sch_df['assignee_email'],\n",
    "        'First_Name_Sch': unmatched_sch_df['First Name'],\n",
    "        'Last_Name_Sch': unmatched_sch_df['Last Name'],\n",
    "        'Sch_Count': unmatched_sch_df['Sch_Count'],\n",
    "        'Matched?': 'none'\n",
    "    })\n",
    "    merged_df = pd.concat([merged_df, unmatched_rows], ignore_index=True)\n",
    "    \n",
    "    return merged_df"
   ]
  },
  {
   "cell_type": "code",
   "execution_count": 15,
   "id": "c1832110-e5db-4c95-a97d-97aa8fbfd713",
   "metadata": {},
   "outputs": [],
   "source": [
    "# Create the pairing table\n",
    "pairing_table = create_merged_df8(adp_grouped_df, sch_grouped_df)"
   ]
  },
  {
   "cell_type": "code",
   "execution_count": 16,
   "id": "72c5e7ea-61e4-414e-a95f-7fad6f4d002a",
   "metadata": {},
   "outputs": [
    {
     "data": {
      "text/html": [
       "<div>\n",
       "<style scoped>\n",
       "    .dataframe tbody tr th:only-of-type {\n",
       "        vertical-align: middle;\n",
       "    }\n",
       "\n",
       "    .dataframe tbody tr th {\n",
       "        vertical-align: top;\n",
       "    }\n",
       "\n",
       "    .dataframe thead th {\n",
       "        text-align: right;\n",
       "    }\n",
       "</style>\n",
       "<table border=\"1\" class=\"dataframe\">\n",
       "  <thead>\n",
       "    <tr style=\"text-align: right;\">\n",
       "      <th></th>\n",
       "      <th>Email_ADP</th>\n",
       "      <th>Email_Sch</th>\n",
       "      <th>Matched?</th>\n",
       "    </tr>\n",
       "  </thead>\n",
       "  <tbody>\n",
       "    <tr>\n",
       "      <th>0</th>\n",
       "      <td>lilligump@icloud.com</td>\n",
       "      <td>lilligump@icloud.com</td>\n",
       "      <td>email</td>\n",
       "    </tr>\n",
       "    <tr>\n",
       "      <th>1</th>\n",
       "      <td>conormreilly9@icloud.com</td>\n",
       "      <td>conormreilly9@icloud.com</td>\n",
       "      <td>email</td>\n",
       "    </tr>\n",
       "    <tr>\n",
       "      <th>2</th>\n",
       "      <td>jvalli@ithaca.edu</td>\n",
       "      <td>jvalli@ithaca.edu</td>\n",
       "      <td>email</td>\n",
       "    </tr>\n",
       "    <tr>\n",
       "      <th>3</th>\n",
       "      <td>rramos21.rr@gmail.com</td>\n",
       "      <td>rramos21.rr@gmail.com</td>\n",
       "      <td>email</td>\n",
       "    </tr>\n",
       "    <tr>\n",
       "      <th>4</th>\n",
       "      <td>giovanna.vilela2021@gmail.com</td>\n",
       "      <td>giovanna.vilela2021@gmail.com</td>\n",
       "      <td>email</td>\n",
       "    </tr>\n",
       "    <tr>\n",
       "      <th>...</th>\n",
       "      <td>...</td>\n",
       "      <td>...</td>\n",
       "      <td>...</td>\n",
       "    </tr>\n",
       "    <tr>\n",
       "      <th>384</th>\n",
       "      <td>None</td>\n",
       "      <td>ss9084134622@gmail.com</td>\n",
       "      <td>none</td>\n",
       "    </tr>\n",
       "    <tr>\n",
       "      <th>385</th>\n",
       "      <td>None</td>\n",
       "      <td>jakeftoth@gmail.com</td>\n",
       "      <td>none</td>\n",
       "    </tr>\n",
       "    <tr>\n",
       "      <th>386</th>\n",
       "      <td>None</td>\n",
       "      <td>christinatourtellot21@gmail.com</td>\n",
       "      <td>none</td>\n",
       "    </tr>\n",
       "    <tr>\n",
       "      <th>387</th>\n",
       "      <td>None</td>\n",
       "      <td>zaakirwilliams@yahoo.com</td>\n",
       "      <td>none</td>\n",
       "    </tr>\n",
       "    <tr>\n",
       "      <th>388</th>\n",
       "      <td>None</td>\n",
       "      <td>httpautism@gmail.com</td>\n",
       "      <td>none</td>\n",
       "    </tr>\n",
       "  </tbody>\n",
       "</table>\n",
       "<p>389 rows × 3 columns</p>\n",
       "</div>"
      ],
      "text/plain": [
       "                         Email_ADP                        Email_Sch Matched?\n",
       "0             lilligump@icloud.com             lilligump@icloud.com    email\n",
       "1         conormreilly9@icloud.com         conormreilly9@icloud.com    email\n",
       "2                jvalli@ithaca.edu                jvalli@ithaca.edu    email\n",
       "3            rramos21.rr@gmail.com            rramos21.rr@gmail.com    email\n",
       "4    giovanna.vilela2021@gmail.com    giovanna.vilela2021@gmail.com    email\n",
       "..                             ...                              ...      ...\n",
       "384                           None           ss9084134622@gmail.com     none\n",
       "385                           None              jakeftoth@gmail.com     none\n",
       "386                           None  christinatourtellot21@gmail.com     none\n",
       "387                           None         zaakirwilliams@yahoo.com     none\n",
       "388                           None             httpautism@gmail.com     none\n",
       "\n",
       "[389 rows x 3 columns]"
      ]
     },
     "execution_count": 16,
     "metadata": {},
     "output_type": "execute_result"
    }
   ],
   "source": [
    "# Add Manual changes\n",
    "email_to_change = \"dalessionicholas6@gmail.com\"\n",
    "sch_email_to_match = \"dalessnp@dukes.jmu.edu\"\n",
    "\n",
    "pairing_table.loc[pairing_table['Email_Sch'] == sch_email_to_match, 'Email_ADP'] = email_to_change\n",
    "pairing_table.loc[pairing_table['Email_Sch'] == sch_email_to_match, 'Matched?'] = 'manual'\n",
    "\n",
    "pairing_table = pairing_table[[\"Email_ADP\", \"Email_Sch\", \"Matched?\"]] #keep relevant cols\n",
    "pairing_table"
   ]
  },
  {
   "cell_type": "markdown",
   "id": "6be54f29-6930-462a-8e4d-7af526361be1",
   "metadata": {},
   "source": [
    "## ADOPTION CALC"
   ]
  },
  {
   "cell_type": "markdown",
   "id": "9501ff4c-5722-41dc-bc9d-dbf72c2e110b",
   "metadata": {},
   "source": [
    "#### Read in ADP Data For Adoption Calculation"
   ]
  },
  {
   "cell_type": "code",
   "execution_count": 17,
   "id": "7dd677a4-342a-4a50-8f16-2e8a4d60058b",
   "metadata": {},
   "outputs": [],
   "source": [
    "#read in the excel, put into DF\n",
    "adp_adoption = pd.read_excel('inputs/NEW_PunchSourceEmails2023.xls') #read in the excel, put into DF"
   ]
  },
  {
   "cell_type": "code",
   "execution_count": 18,
   "id": "626735ab-a14c-4100-ab36-a7d990a13728",
   "metadata": {},
   "outputs": [
    {
     "data": {
      "text/html": [
       "<div>\n",
       "<style scoped>\n",
       "    .dataframe tbody tr th:only-of-type {\n",
       "        vertical-align: middle;\n",
       "    }\n",
       "\n",
       "    .dataframe tbody tr th {\n",
       "        vertical-align: top;\n",
       "    }\n",
       "\n",
       "    .dataframe thead th {\n",
       "        text-align: right;\n",
       "    }\n",
       "</style>\n",
       "<table border=\"1\" class=\"dataframe\">\n",
       "  <thead>\n",
       "    <tr style=\"text-align: right;\">\n",
       "      <th></th>\n",
       "      <th>Last Name</th>\n",
       "      <th>First Name</th>\n",
       "      <th>Email</th>\n",
       "      <th>Date</th>\n",
       "    </tr>\n",
       "  </thead>\n",
       "  <tbody>\n",
       "    <tr>\n",
       "      <th>0</th>\n",
       "      <td>Abam</td>\n",
       "      <td>Aria</td>\n",
       "      <td>ariaebam2006@gmail.com</td>\n",
       "      <td>2023-05-28</td>\n",
       "    </tr>\n",
       "    <tr>\n",
       "      <th>1</th>\n",
       "      <td>Abam</td>\n",
       "      <td>Aria</td>\n",
       "      <td>ariaebam2006@gmail.com</td>\n",
       "      <td>2023-05-29</td>\n",
       "    </tr>\n",
       "    <tr>\n",
       "      <th>2</th>\n",
       "      <td>Abam</td>\n",
       "      <td>Aria</td>\n",
       "      <td>ariaebam2006@gmail.com</td>\n",
       "      <td>2023-06-04</td>\n",
       "    </tr>\n",
       "    <tr>\n",
       "      <th>3</th>\n",
       "      <td>Abam</td>\n",
       "      <td>Aria</td>\n",
       "      <td>ariaebam2006@gmail.com</td>\n",
       "      <td>2023-06-20</td>\n",
       "    </tr>\n",
       "    <tr>\n",
       "      <th>4</th>\n",
       "      <td>Abam</td>\n",
       "      <td>Aria</td>\n",
       "      <td>ariaebam2006@gmail.com</td>\n",
       "      <td>2023-06-28</td>\n",
       "    </tr>\n",
       "    <tr>\n",
       "      <th>...</th>\n",
       "      <td>...</td>\n",
       "      <td>...</td>\n",
       "      <td>...</td>\n",
       "      <td>...</td>\n",
       "    </tr>\n",
       "    <tr>\n",
       "      <th>9987</th>\n",
       "      <td>von Brachel</td>\n",
       "      <td>Elinor</td>\n",
       "      <td>evonbrachel@gmail.com</td>\n",
       "      <td>2023-07-18</td>\n",
       "    </tr>\n",
       "    <tr>\n",
       "      <th>9988</th>\n",
       "      <td>von Brachel</td>\n",
       "      <td>Elinor</td>\n",
       "      <td>evonbrachel@gmail.com</td>\n",
       "      <td>2023-07-20</td>\n",
       "    </tr>\n",
       "    <tr>\n",
       "      <th>9989</th>\n",
       "      <td>von Brachel</td>\n",
       "      <td>Elinor</td>\n",
       "      <td>evonbrachel@gmail.com</td>\n",
       "      <td>2023-07-27</td>\n",
       "    </tr>\n",
       "    <tr>\n",
       "      <th>9990</th>\n",
       "      <td>von Brachel</td>\n",
       "      <td>Elinor</td>\n",
       "      <td>evonbrachel@gmail.com</td>\n",
       "      <td>2023-08-13</td>\n",
       "    </tr>\n",
       "    <tr>\n",
       "      <th>9991</th>\n",
       "      <td>von Brachel</td>\n",
       "      <td>Elinor</td>\n",
       "      <td>evonbrachel@gmail.com</td>\n",
       "      <td>2023-08-15</td>\n",
       "    </tr>\n",
       "  </tbody>\n",
       "</table>\n",
       "<p>8816 rows × 4 columns</p>\n",
       "</div>"
      ],
      "text/plain": [
       "        Last Name First Name                   Email        Date\n",
       "0            Abam       Aria  ariaebam2006@gmail.com  2023-05-28\n",
       "1            Abam       Aria  ariaebam2006@gmail.com  2023-05-29\n",
       "2            Abam       Aria  ariaebam2006@gmail.com  2023-06-04\n",
       "3            Abam       Aria  ariaebam2006@gmail.com  2023-06-20\n",
       "4            Abam       Aria  ariaebam2006@gmail.com  2023-06-28\n",
       "...           ...        ...                     ...         ...\n",
       "9987  von Brachel     Elinor   evonbrachel@gmail.com  2023-07-18\n",
       "9988  von Brachel     Elinor   evonbrachel@gmail.com  2023-07-20\n",
       "9989  von Brachel     Elinor   evonbrachel@gmail.com  2023-07-27\n",
       "9990  von Brachel     Elinor   evonbrachel@gmail.com  2023-08-13\n",
       "9991  von Brachel     Elinor   evonbrachel@gmail.com  2023-08-15\n",
       "\n",
       "[8816 rows x 4 columns]"
      ]
     },
     "execution_count": 18,
     "metadata": {},
     "output_type": "execute_result"
    }
   ],
   "source": [
    "#filter the relevant data\n",
    "adp_adoption = adp_adoption[['Last Name', 'First Name', 'Personal Contact: Personal Email', \n",
    "                         'Time In', 'Pay Code [Timecard]']] #keep these cols\n",
    "adp_adoption = adp_adoption.rename(columns={'Personal Contact: Personal Email': 'Email'}) #rename col\n",
    "adp_adoption = adp_adoption[adp_adoption['Pay Code [Timecard]'] != \"REGSAL\"] #drop managers from the pay data\n",
    "adp_adoption.loc[:, 'Date'] = adp_adoption['Time In'].dt.date #make it solely a date col\n",
    "adp_adoption.drop(columns=['Time In', 'Pay Code [Timecard]'], inplace=True) #then drop orig time in col\n",
    "\n",
    "adp_adoption"
   ]
  },
  {
   "cell_type": "markdown",
   "id": "a2b84cb2-dcbe-41b3-9664-3fc089987960",
   "metadata": {},
   "source": [
    "#### Read in Scheduler Data For Adoption Calculation"
   ]
  },
  {
   "cell_type": "code",
   "execution_count": 19,
   "id": "82ec2f10-e183-4364-abf8-e67a1b87eb94",
   "metadata": {},
   "outputs": [
    {
     "data": {
      "text/html": [
       "<div>\n",
       "<style scoped>\n",
       "    .dataframe tbody tr th:only-of-type {\n",
       "        vertical-align: middle;\n",
       "    }\n",
       "\n",
       "    .dataframe tbody tr th {\n",
       "        vertical-align: top;\n",
       "    }\n",
       "\n",
       "    .dataframe thead th {\n",
       "        text-align: right;\n",
       "    }\n",
       "</style>\n",
       "<table border=\"1\" class=\"dataframe\">\n",
       "  <thead>\n",
       "    <tr style=\"text-align: right;\">\n",
       "      <th></th>\n",
       "      <th>assignee_name</th>\n",
       "      <th>role</th>\n",
       "      <th>epoch_start_time</th>\n",
       "      <th>start_time_est</th>\n",
       "      <th>assignee_email</th>\n",
       "      <th>coverer_name</th>\n",
       "      <th>coverer_email</th>\n",
       "      <th>cover_type</th>\n",
       "      <th>cover_time</th>\n",
       "      <th>cover_time_est</th>\n",
       "    </tr>\n",
       "  </thead>\n",
       "  <tbody>\n",
       "    <tr>\n",
       "      <th>0</th>\n",
       "      <td>Andrew DeKuyper</td>\n",
       "      <td>3.0</td>\n",
       "      <td>1.687703e+09</td>\n",
       "      <td>2023-06-25 10:30:00</td>\n",
       "      <td>andrewhdekuyper@gmail.com</td>\n",
       "      <td>NaN</td>\n",
       "      <td>NaN</td>\n",
       "      <td>none</td>\n",
       "      <td>NaN</td>\n",
       "      <td>NaT</td>\n",
       "    </tr>\n",
       "    <tr>\n",
       "      <th>1</th>\n",
       "      <td>Osias Williams</td>\n",
       "      <td>3.0</td>\n",
       "      <td>1.685387e+09</td>\n",
       "      <td>2023-05-29 15:00:00</td>\n",
       "      <td>osiasxwilli@icloud.com</td>\n",
       "      <td>NaN</td>\n",
       "      <td>NaN</td>\n",
       "      <td>none</td>\n",
       "      <td>NaN</td>\n",
       "      <td>NaT</td>\n",
       "    </tr>\n",
       "    <tr>\n",
       "      <th>2</th>\n",
       "      <td>Jacob Silber</td>\n",
       "      <td>3.0</td>\n",
       "      <td>1.685196e+09</td>\n",
       "      <td>2023-05-27 10:00:00</td>\n",
       "      <td>njhype1@gmail.com</td>\n",
       "      <td>NaN</td>\n",
       "      <td>NaN</td>\n",
       "      <td>none</td>\n",
       "      <td>NaN</td>\n",
       "      <td>NaT</td>\n",
       "    </tr>\n",
       "    <tr>\n",
       "      <th>3</th>\n",
       "      <td>Kate Niccolai</td>\n",
       "      <td>3.0</td>\n",
       "      <td>1.686488e+09</td>\n",
       "      <td>2023-06-11 09:00:00</td>\n",
       "      <td>katieniccolai@gmail.com</td>\n",
       "      <td>NaN</td>\n",
       "      <td>NaN</td>\n",
       "      <td>none</td>\n",
       "      <td>NaN</td>\n",
       "      <td>NaT</td>\n",
       "    </tr>\n",
       "    <tr>\n",
       "      <th>4</th>\n",
       "      <td>Zachary Liebman</td>\n",
       "      <td>3.0</td>\n",
       "      <td>1.693411e+09</td>\n",
       "      <td>2023-08-30 12:00:00</td>\n",
       "      <td>zachsliebman@gmail.com</td>\n",
       "      <td>NaN</td>\n",
       "      <td>NaN</td>\n",
       "      <td>none</td>\n",
       "      <td>NaN</td>\n",
       "      <td>NaT</td>\n",
       "    </tr>\n",
       "    <tr>\n",
       "      <th>...</th>\n",
       "      <td>...</td>\n",
       "      <td>...</td>\n",
       "      <td>...</td>\n",
       "      <td>...</td>\n",
       "      <td>...</td>\n",
       "      <td>...</td>\n",
       "      <td>...</td>\n",
       "      <td>...</td>\n",
       "      <td>...</td>\n",
       "      <td>...</td>\n",
       "    </tr>\n",
       "    <tr>\n",
       "      <th>5636</th>\n",
       "      <td>Leah Gottsegen</td>\n",
       "      <td>3.0</td>\n",
       "      <td>1.693843e+09</td>\n",
       "      <td>2023-09-04 12:00:00</td>\n",
       "      <td>leahgotts@gmail.com</td>\n",
       "      <td>NaN</td>\n",
       "      <td>NaN</td>\n",
       "      <td>none</td>\n",
       "      <td>NaN</td>\n",
       "      <td>NaT</td>\n",
       "    </tr>\n",
       "    <tr>\n",
       "      <th>5637</th>\n",
       "      <td>Leah Gottsegen</td>\n",
       "      <td>3.0</td>\n",
       "      <td>1.693757e+09</td>\n",
       "      <td>2023-09-03 12:00:00</td>\n",
       "      <td>leahgotts@gmail.com</td>\n",
       "      <td>NaN</td>\n",
       "      <td>NaN</td>\n",
       "      <td>none</td>\n",
       "      <td>NaN</td>\n",
       "      <td>NaT</td>\n",
       "    </tr>\n",
       "    <tr>\n",
       "      <th>5638</th>\n",
       "      <td>Danielle Cohen</td>\n",
       "      <td>3.0</td>\n",
       "      <td>1.693663e+09</td>\n",
       "      <td>2023-09-02 10:00:00</td>\n",
       "      <td>daniellecohenw@gmail.con</td>\n",
       "      <td>NaN</td>\n",
       "      <td>NaN</td>\n",
       "      <td>none</td>\n",
       "      <td>NaN</td>\n",
       "      <td>NaT</td>\n",
       "    </tr>\n",
       "    <tr>\n",
       "      <th>5639</th>\n",
       "      <td>Danielle Cohen</td>\n",
       "      <td>3.0</td>\n",
       "      <td>1.693231e+09</td>\n",
       "      <td>2023-08-28 10:00:00</td>\n",
       "      <td>daniellecohenw@gmail.con</td>\n",
       "      <td>NaN</td>\n",
       "      <td>NaN</td>\n",
       "      <td>none</td>\n",
       "      <td>NaN</td>\n",
       "      <td>NaT</td>\n",
       "    </tr>\n",
       "    <tr>\n",
       "      <th>5640</th>\n",
       "      <td>Laana Vasan</td>\n",
       "      <td>3.0</td>\n",
       "      <td>1.693670e+09</td>\n",
       "      <td>2023-09-02 12:00:00</td>\n",
       "      <td>laanavasan@gmail.com</td>\n",
       "      <td>NaN</td>\n",
       "      <td>NaN</td>\n",
       "      <td>none</td>\n",
       "      <td>NaN</td>\n",
       "      <td>NaT</td>\n",
       "    </tr>\n",
       "  </tbody>\n",
       "</table>\n",
       "<p>5641 rows × 10 columns</p>\n",
       "</div>"
      ],
      "text/plain": [
       "        assignee_name  role  epoch_start_time      start_time_est  \\\n",
       "0     Andrew DeKuyper   3.0      1.687703e+09 2023-06-25 10:30:00   \n",
       "1      Osias Williams   3.0      1.685387e+09 2023-05-29 15:00:00   \n",
       "2        Jacob Silber   3.0      1.685196e+09 2023-05-27 10:00:00   \n",
       "3       Kate Niccolai   3.0      1.686488e+09 2023-06-11 09:00:00   \n",
       "4     Zachary Liebman   3.0      1.693411e+09 2023-08-30 12:00:00   \n",
       "...               ...   ...               ...                 ...   \n",
       "5636   Leah Gottsegen   3.0      1.693843e+09 2023-09-04 12:00:00   \n",
       "5637   Leah Gottsegen   3.0      1.693757e+09 2023-09-03 12:00:00   \n",
       "5638   Danielle Cohen   3.0      1.693663e+09 2023-09-02 10:00:00   \n",
       "5639   Danielle Cohen   3.0      1.693231e+09 2023-08-28 10:00:00   \n",
       "5640      Laana Vasan   3.0      1.693670e+09 2023-09-02 12:00:00   \n",
       "\n",
       "                 assignee_email coverer_name coverer_email cover_type  \\\n",
       "0     andrewhdekuyper@gmail.com          NaN           NaN       none   \n",
       "1        osiasxwilli@icloud.com          NaN           NaN       none   \n",
       "2             njhype1@gmail.com          NaN           NaN       none   \n",
       "3       katieniccolai@gmail.com          NaN           NaN       none   \n",
       "4        zachsliebman@gmail.com          NaN           NaN       none   \n",
       "...                         ...          ...           ...        ...   \n",
       "5636        leahgotts@gmail.com          NaN           NaN       none   \n",
       "5637        leahgotts@gmail.com          NaN           NaN       none   \n",
       "5638   daniellecohenw@gmail.con          NaN           NaN       none   \n",
       "5639   daniellecohenw@gmail.con          NaN           NaN       none   \n",
       "5640       laanavasan@gmail.com          NaN           NaN       none   \n",
       "\n",
       "      cover_time cover_time_est  \n",
       "0            NaN            NaT  \n",
       "1            NaN            NaT  \n",
       "2            NaN            NaT  \n",
       "3            NaN            NaT  \n",
       "4            NaN            NaT  \n",
       "...          ...            ...  \n",
       "5636         NaN            NaT  \n",
       "5637         NaN            NaT  \n",
       "5638         NaN            NaT  \n",
       "5639         NaN            NaT  \n",
       "5640         NaN            NaT  \n",
       "\n",
       "[5641 rows x 10 columns]"
      ]
     },
     "execution_count": 19,
     "metadata": {},
     "output_type": "execute_result"
    }
   ],
   "source": [
    "#read in the excel, put into DF\n",
    "scheduler_adoption = pd.read_excel('inputs/NEW_SchedulerShifts2023.xlsx') #read in the excel, put into DF\n",
    "scheduler_adoption"
   ]
  },
  {
   "cell_type": "code",
   "execution_count": 20,
   "id": "d4f4ebd1-64d5-4feb-97da-fc46dcc3aef8",
   "metadata": {},
   "outputs": [
    {
     "data": {
      "text/html": [
       "<div>\n",
       "<style scoped>\n",
       "    .dataframe tbody tr th:only-of-type {\n",
       "        vertical-align: middle;\n",
       "    }\n",
       "\n",
       "    .dataframe tbody tr th {\n",
       "        vertical-align: top;\n",
       "    }\n",
       "\n",
       "    .dataframe thead th {\n",
       "        text-align: right;\n",
       "    }\n",
       "</style>\n",
       "<table border=\"1\" class=\"dataframe\">\n",
       "  <thead>\n",
       "    <tr style=\"text-align: right;\">\n",
       "      <th></th>\n",
       "      <th>assignee_name</th>\n",
       "      <th>role</th>\n",
       "      <th>start_time_est</th>\n",
       "      <th>assignee_email</th>\n",
       "      <th>coverer_name</th>\n",
       "      <th>coverer_email</th>\n",
       "      <th>cover_type</th>\n",
       "      <th>cover_time_est</th>\n",
       "    </tr>\n",
       "  </thead>\n",
       "  <tbody>\n",
       "    <tr>\n",
       "      <th>0</th>\n",
       "      <td>Andrew DeKuyper</td>\n",
       "      <td>3.0</td>\n",
       "      <td>2023-06-25</td>\n",
       "      <td>andrewhdekuyper@gmail.com</td>\n",
       "      <td>NaN</td>\n",
       "      <td>NaN</td>\n",
       "      <td>none</td>\n",
       "      <td>NaN</td>\n",
       "    </tr>\n",
       "    <tr>\n",
       "      <th>1</th>\n",
       "      <td>Osias Williams</td>\n",
       "      <td>3.0</td>\n",
       "      <td>2023-05-29</td>\n",
       "      <td>osiasxwilli@icloud.com</td>\n",
       "      <td>NaN</td>\n",
       "      <td>NaN</td>\n",
       "      <td>none</td>\n",
       "      <td>NaN</td>\n",
       "    </tr>\n",
       "    <tr>\n",
       "      <th>2</th>\n",
       "      <td>Jacob Silber</td>\n",
       "      <td>3.0</td>\n",
       "      <td>2023-05-27</td>\n",
       "      <td>njhype1@gmail.com</td>\n",
       "      <td>NaN</td>\n",
       "      <td>NaN</td>\n",
       "      <td>none</td>\n",
       "      <td>NaN</td>\n",
       "    </tr>\n",
       "    <tr>\n",
       "      <th>3</th>\n",
       "      <td>Kate Niccolai</td>\n",
       "      <td>3.0</td>\n",
       "      <td>2023-06-11</td>\n",
       "      <td>katieniccolai@gmail.com</td>\n",
       "      <td>NaN</td>\n",
       "      <td>NaN</td>\n",
       "      <td>none</td>\n",
       "      <td>NaN</td>\n",
       "    </tr>\n",
       "    <tr>\n",
       "      <th>4</th>\n",
       "      <td>Zachary Liebman</td>\n",
       "      <td>3.0</td>\n",
       "      <td>2023-08-30</td>\n",
       "      <td>zachsliebman@gmail.com</td>\n",
       "      <td>NaN</td>\n",
       "      <td>NaN</td>\n",
       "      <td>none</td>\n",
       "      <td>NaN</td>\n",
       "    </tr>\n",
       "    <tr>\n",
       "      <th>...</th>\n",
       "      <td>...</td>\n",
       "      <td>...</td>\n",
       "      <td>...</td>\n",
       "      <td>...</td>\n",
       "      <td>...</td>\n",
       "      <td>...</td>\n",
       "      <td>...</td>\n",
       "      <td>...</td>\n",
       "    </tr>\n",
       "    <tr>\n",
       "      <th>5636</th>\n",
       "      <td>Leah Gottsegen</td>\n",
       "      <td>3.0</td>\n",
       "      <td>2023-09-04</td>\n",
       "      <td>leahgotts@gmail.com</td>\n",
       "      <td>NaN</td>\n",
       "      <td>NaN</td>\n",
       "      <td>none</td>\n",
       "      <td>NaN</td>\n",
       "    </tr>\n",
       "    <tr>\n",
       "      <th>5637</th>\n",
       "      <td>Leah Gottsegen</td>\n",
       "      <td>3.0</td>\n",
       "      <td>2023-09-03</td>\n",
       "      <td>leahgotts@gmail.com</td>\n",
       "      <td>NaN</td>\n",
       "      <td>NaN</td>\n",
       "      <td>none</td>\n",
       "      <td>NaN</td>\n",
       "    </tr>\n",
       "    <tr>\n",
       "      <th>5638</th>\n",
       "      <td>Danielle Cohen</td>\n",
       "      <td>3.0</td>\n",
       "      <td>2023-09-02</td>\n",
       "      <td>daniellecohenw@gmail.con</td>\n",
       "      <td>NaN</td>\n",
       "      <td>NaN</td>\n",
       "      <td>none</td>\n",
       "      <td>NaN</td>\n",
       "    </tr>\n",
       "    <tr>\n",
       "      <th>5639</th>\n",
       "      <td>Danielle Cohen</td>\n",
       "      <td>3.0</td>\n",
       "      <td>2023-08-28</td>\n",
       "      <td>daniellecohenw@gmail.con</td>\n",
       "      <td>NaN</td>\n",
       "      <td>NaN</td>\n",
       "      <td>none</td>\n",
       "      <td>NaN</td>\n",
       "    </tr>\n",
       "    <tr>\n",
       "      <th>5640</th>\n",
       "      <td>Laana Vasan</td>\n",
       "      <td>3.0</td>\n",
       "      <td>2023-09-02</td>\n",
       "      <td>laanavasan@gmail.com</td>\n",
       "      <td>NaN</td>\n",
       "      <td>NaN</td>\n",
       "      <td>none</td>\n",
       "      <td>NaN</td>\n",
       "    </tr>\n",
       "  </tbody>\n",
       "</table>\n",
       "<p>5345 rows × 8 columns</p>\n",
       "</div>"
      ],
      "text/plain": [
       "        assignee_name  role start_time_est             assignee_email  \\\n",
       "0     Andrew DeKuyper   3.0     2023-06-25  andrewhdekuyper@gmail.com   \n",
       "1      Osias Williams   3.0     2023-05-29     osiasxwilli@icloud.com   \n",
       "2        Jacob Silber   3.0     2023-05-27          njhype1@gmail.com   \n",
       "3       Kate Niccolai   3.0     2023-06-11    katieniccolai@gmail.com   \n",
       "4     Zachary Liebman   3.0     2023-08-30     zachsliebman@gmail.com   \n",
       "...               ...   ...            ...                        ...   \n",
       "5636   Leah Gottsegen   3.0     2023-09-04        leahgotts@gmail.com   \n",
       "5637   Leah Gottsegen   3.0     2023-09-03        leahgotts@gmail.com   \n",
       "5638   Danielle Cohen   3.0     2023-09-02   daniellecohenw@gmail.con   \n",
       "5639   Danielle Cohen   3.0     2023-08-28   daniellecohenw@gmail.con   \n",
       "5640      Laana Vasan   3.0     2023-09-02       laanavasan@gmail.com   \n",
       "\n",
       "     coverer_name coverer_email cover_type cover_time_est  \n",
       "0             NaN           NaN       none            NaN  \n",
       "1             NaN           NaN       none            NaN  \n",
       "2             NaN           NaN       none            NaN  \n",
       "3             NaN           NaN       none            NaN  \n",
       "4             NaN           NaN       none            NaN  \n",
       "...           ...           ...        ...            ...  \n",
       "5636          NaN           NaN       none            NaN  \n",
       "5637          NaN           NaN       none            NaN  \n",
       "5638          NaN           NaN       none            NaN  \n",
       "5639          NaN           NaN       none            NaN  \n",
       "5640          NaN           NaN       none            NaN  \n",
       "\n",
       "[5345 rows x 8 columns]"
      ]
     },
     "execution_count": 20,
     "metadata": {},
     "output_type": "execute_result"
    }
   ],
   "source": [
    "#filter the relevant data\n",
    "scheduler_adoption = scheduler_adoption.drop(columns=[\"epoch_start_time\", \"cover_time\"]) #drop these cols\n",
    "\n",
    "#can drop any rows that have cover_type full and role = 2 \n",
    "# b/c cover_type full either means request in future or was not taken\n",
    "# 2 = manager so not relevant \n",
    "scheduler_adoption = scheduler_adoption[~((scheduler_adoption['role'] == 2.0) | \n",
    "                                          (scheduler_adoption['cover_type'] == 'full'))]\n",
    "\n",
    "scheduler_adoption['start_time_est'] = scheduler_adoption['start_time_est'].dt.date #convert to just date \n",
    "scheduler_adoption['cover_time_est'] = scheduler_adoption['cover_time_est'].dt.date #convert to just date \n",
    "\n",
    "scheduler_adoption"
   ]
  },
  {
   "cell_type": "code",
   "execution_count": 21,
   "id": "6874f4e2-715b-4610-b30a-ff2b7a07147d",
   "metadata": {},
   "outputs": [],
   "source": [
    "#extract the coverers to a new DF\n",
    "cover_scheduler_adoption = scheduler_adoption[scheduler_adoption['cover_type'].isin(['before', 'after'])][['coverer_name', \n",
    "                                                                                           'coverer_email', \n",
    "                                                                                           'role', \n",
    "                                                                                           'cover_time_est']]\n",
    "cover_scheduler_adoption.rename(columns={'coverer_name': 'assignee_name', \n",
    "                             'coverer_email': 'assignee_email', \n",
    "                             'cover_time_est': 'start_time_est'}, inplace=True)"
   ]
  },
  {
   "cell_type": "code",
   "execution_count": 22,
   "id": "77b9bd17-18c2-4fb4-97ae-97107384962a",
   "metadata": {},
   "outputs": [],
   "source": [
    "#combine the original DF with the coverer DF to make one final shift DF\n",
    "final_scheduler_adoption = pd.concat([scheduler_adoption, cover_scheduler_adoption], ignore_index=True)\n",
    "final_scheduler_adoption.drop(columns=['role', 'coverer_name', 'cover_type', 'cover_time_est', 'coverer_email'], inplace=True) #drop unneeded columns"
   ]
  },
  {
   "cell_type": "code",
   "execution_count": 23,
   "id": "1d6ec927-48a0-4256-a9d9-b98a41955240",
   "metadata": {},
   "outputs": [
    {
     "data": {
      "text/html": [
       "<div>\n",
       "<style scoped>\n",
       "    .dataframe tbody tr th:only-of-type {\n",
       "        vertical-align: middle;\n",
       "    }\n",
       "\n",
       "    .dataframe tbody tr th {\n",
       "        vertical-align: top;\n",
       "    }\n",
       "\n",
       "    .dataframe thead th {\n",
       "        text-align: right;\n",
       "    }\n",
       "</style>\n",
       "<table border=\"1\" class=\"dataframe\">\n",
       "  <thead>\n",
       "    <tr style=\"text-align: right;\">\n",
       "      <th></th>\n",
       "      <th>assignee_name</th>\n",
       "      <th>start_time_est</th>\n",
       "      <th>assignee_email</th>\n",
       "      <th>First Name</th>\n",
       "      <th>Last Name</th>\n",
       "    </tr>\n",
       "  </thead>\n",
       "  <tbody>\n",
       "    <tr>\n",
       "      <th>0</th>\n",
       "      <td>Andrew DeKuyper</td>\n",
       "      <td>2023-06-25</td>\n",
       "      <td>andrewhdekuyper@gmail.com</td>\n",
       "      <td>Andrew</td>\n",
       "      <td>DeKuyper</td>\n",
       "    </tr>\n",
       "    <tr>\n",
       "      <th>1</th>\n",
       "      <td>Osias Williams</td>\n",
       "      <td>2023-05-29</td>\n",
       "      <td>osiasxwilli@icloud.com</td>\n",
       "      <td>Osias</td>\n",
       "      <td>Williams</td>\n",
       "    </tr>\n",
       "    <tr>\n",
       "      <th>2</th>\n",
       "      <td>Jacob Silber</td>\n",
       "      <td>2023-05-27</td>\n",
       "      <td>njhype1@gmail.com</td>\n",
       "      <td>Jacob</td>\n",
       "      <td>Silber</td>\n",
       "    </tr>\n",
       "    <tr>\n",
       "      <th>3</th>\n",
       "      <td>Kate Niccolai</td>\n",
       "      <td>2023-06-11</td>\n",
       "      <td>katieniccolai@gmail.com</td>\n",
       "      <td>Kate</td>\n",
       "      <td>Niccolai</td>\n",
       "    </tr>\n",
       "    <tr>\n",
       "      <th>4</th>\n",
       "      <td>Zachary Liebman</td>\n",
       "      <td>2023-08-30</td>\n",
       "      <td>zachsliebman@gmail.com</td>\n",
       "      <td>Zachary</td>\n",
       "      <td>Liebman</td>\n",
       "    </tr>\n",
       "    <tr>\n",
       "      <th>...</th>\n",
       "      <td>...</td>\n",
       "      <td>...</td>\n",
       "      <td>...</td>\n",
       "      <td>...</td>\n",
       "      <td>...</td>\n",
       "    </tr>\n",
       "    <tr>\n",
       "      <th>5435</th>\n",
       "      <td>NaN</td>\n",
       "      <td>2023-08-10</td>\n",
       "      <td>NaN</td>\n",
       "      <td>NaN</td>\n",
       "      <td>NaN</td>\n",
       "    </tr>\n",
       "    <tr>\n",
       "      <th>5436</th>\n",
       "      <td>Megan D’Alessandro</td>\n",
       "      <td>2023-08-12</td>\n",
       "      <td>me.dalessandro@icloud.com</td>\n",
       "      <td>Megan</td>\n",
       "      <td>D’Alessandro</td>\n",
       "    </tr>\n",
       "    <tr>\n",
       "      <th>5437</th>\n",
       "      <td>NaN</td>\n",
       "      <td>2023-08-14</td>\n",
       "      <td>NaN</td>\n",
       "      <td>NaN</td>\n",
       "      <td>NaN</td>\n",
       "    </tr>\n",
       "    <tr>\n",
       "      <th>5438</th>\n",
       "      <td>NaN</td>\n",
       "      <td>2023-08-21</td>\n",
       "      <td>NaN</td>\n",
       "      <td>NaN</td>\n",
       "      <td>NaN</td>\n",
       "    </tr>\n",
       "    <tr>\n",
       "      <th>5439</th>\n",
       "      <td>NaN</td>\n",
       "      <td>2023-08-25</td>\n",
       "      <td>NaN</td>\n",
       "      <td>NaN</td>\n",
       "      <td>NaN</td>\n",
       "    </tr>\n",
       "  </tbody>\n",
       "</table>\n",
       "<p>5440 rows × 5 columns</p>\n",
       "</div>"
      ],
      "text/plain": [
       "           assignee_name start_time_est             assignee_email First Name  \\\n",
       "0        Andrew DeKuyper     2023-06-25  andrewhdekuyper@gmail.com     Andrew   \n",
       "1         Osias Williams     2023-05-29     osiasxwilli@icloud.com      Osias   \n",
       "2           Jacob Silber     2023-05-27          njhype1@gmail.com      Jacob   \n",
       "3          Kate Niccolai     2023-06-11    katieniccolai@gmail.com       Kate   \n",
       "4        Zachary Liebman     2023-08-30     zachsliebman@gmail.com    Zachary   \n",
       "...                  ...            ...                        ...        ...   \n",
       "5435                 NaN     2023-08-10                        NaN        NaN   \n",
       "5436  Megan D’Alessandro     2023-08-12  me.dalessandro@icloud.com      Megan   \n",
       "5437                 NaN     2023-08-14                        NaN        NaN   \n",
       "5438                 NaN     2023-08-21                        NaN        NaN   \n",
       "5439                 NaN     2023-08-25                        NaN        NaN   \n",
       "\n",
       "         Last Name  \n",
       "0         DeKuyper  \n",
       "1         Williams  \n",
       "2           Silber  \n",
       "3         Niccolai  \n",
       "4          Liebman  \n",
       "...            ...  \n",
       "5435           NaN  \n",
       "5436  D’Alessandro  \n",
       "5437           NaN  \n",
       "5438           NaN  \n",
       "5439           NaN  \n",
       "\n",
       "[5440 rows x 5 columns]"
      ]
     },
     "execution_count": 23,
     "metadata": {},
     "output_type": "execute_result"
    }
   ],
   "source": [
    "#split name into first and last\n",
    "split_names = final_scheduler_adoption['assignee_name'].str.split()\n",
    "final_scheduler_adoption['First Name'] = split_names.str[0]\n",
    "final_scheduler_adoption['Last Name'] = split_names.str[1:].str.join(' ')\n",
    "\n",
    "final_scheduler_adoption"
   ]
  },
  {
   "cell_type": "markdown",
   "id": "ed7686b2-63fd-41c4-bbbe-78c5db106e65",
   "metadata": {},
   "source": [
    "#### Define Timeframe For Adoption"
   ]
  },
  {
   "cell_type": "code",
   "execution_count": 24,
   "id": "9f164458-ea03-4dcf-a241-23036a863514",
   "metadata": {},
   "outputs": [],
   "source": [
    "start_date = pd.Timestamp('2023-06-01').date()\n",
    "end_date = pd.Timestamp('2023-06-07').date()\n",
    "\n",
    "TF_SCH = final_scheduler_adoption[(final_scheduler_adoption['start_time_est'] >= start_date) & \n",
    "                                  (final_scheduler_adoption['start_time_est'] <= end_date)]\n",
    "\n",
    "TF_ADP = adp_adoption[(adp_adoption['Date'] >= start_date) & \n",
    "                      (adp_adoption['Date'] <= end_date)]"
   ]
  },
  {
   "cell_type": "markdown",
   "id": "c5924f32-6401-4cb3-b51c-c2622011a724",
   "metadata": {},
   "source": [
    "#### Grouping -- Count Shifts For Adoption Calc"
   ]
  },
  {
   "cell_type": "code",
   "execution_count": 25,
   "id": "466b2c7c-b6a8-4480-bdff-3f4d6ff730e9",
   "metadata": {},
   "outputs": [],
   "source": [
    "GR_ADP = TF_ADP.groupby(['Email']).size().reset_index(name='ADP_Count')\n",
    "GR_ADP.rename(columns={\"Email\": \"Email_ADP\"}, inplace=True)"
   ]
  },
  {
   "cell_type": "code",
   "execution_count": 26,
   "id": "5fb81897-cda8-487d-91d8-352f6e49ba04",
   "metadata": {},
   "outputs": [],
   "source": [
    "GR_SCH = TF_SCH.groupby(['assignee_email']).size().reset_index(name='Sch_Count') #find count per person\n",
    "GR_SCH.rename(columns={\"assignee_email\": \"Email_Sch\"}, inplace=True)"
   ]
  },
  {
   "cell_type": "code",
   "execution_count": 27,
   "id": "84f0e8c0-e3a3-402d-b722-7837cd83f7c1",
   "metadata": {},
   "outputs": [],
   "source": [
    "counting = GR_SCH.merge(pairing_table, on=\"Email_Sch\", how=\"left\")"
   ]
  },
  {
   "cell_type": "code",
   "execution_count": 28,
   "id": "8e137581-ae54-4afe-89c1-7deb82b30e44",
   "metadata": {},
   "outputs": [
    {
     "data": {
      "text/html": [
       "<div>\n",
       "<style scoped>\n",
       "    .dataframe tbody tr th:only-of-type {\n",
       "        vertical-align: middle;\n",
       "    }\n",
       "\n",
       "    .dataframe tbody tr th {\n",
       "        vertical-align: top;\n",
       "    }\n",
       "\n",
       "    .dataframe thead th {\n",
       "        text-align: right;\n",
       "    }\n",
       "</style>\n",
       "<table border=\"1\" class=\"dataframe\">\n",
       "  <thead>\n",
       "    <tr style=\"text-align: right;\">\n",
       "      <th></th>\n",
       "      <th>Email_Sch</th>\n",
       "      <th>Sch_Count</th>\n",
       "      <th>Email_ADP</th>\n",
       "      <th>Matched?</th>\n",
       "      <th>ADP_Count</th>\n",
       "    </tr>\n",
       "  </thead>\n",
       "  <tbody>\n",
       "    <tr>\n",
       "      <th>0</th>\n",
       "      <td>aidanmsheridan@gmail.com</td>\n",
       "      <td>1</td>\n",
       "      <td>aidanmsheridan@gmail.com</td>\n",
       "      <td>email</td>\n",
       "      <td>1.0</td>\n",
       "    </tr>\n",
       "    <tr>\n",
       "      <th>1</th>\n",
       "      <td>aileenwilson11208@gmail.com</td>\n",
       "      <td>1</td>\n",
       "      <td>aileenwilson11208@gmail.com</td>\n",
       "      <td>email</td>\n",
       "      <td>1.0</td>\n",
       "    </tr>\n",
       "    <tr>\n",
       "      <th>2</th>\n",
       "      <td>ajazzy206@gmail.com</td>\n",
       "      <td>2</td>\n",
       "      <td>ajazzy206@gmail.com</td>\n",
       "      <td>email</td>\n",
       "      <td>2.0</td>\n",
       "    </tr>\n",
       "    <tr>\n",
       "      <th>3</th>\n",
       "      <td>allyrose316@gmail.com</td>\n",
       "      <td>3</td>\n",
       "      <td>allyrose316@gmail.com</td>\n",
       "      <td>email</td>\n",
       "      <td>2.0</td>\n",
       "    </tr>\n",
       "    <tr>\n",
       "      <th>4</th>\n",
       "      <td>ameliamcgr@gmail.com</td>\n",
       "      <td>1</td>\n",
       "      <td>ameliamcgr@gmail.com</td>\n",
       "      <td>email</td>\n",
       "      <td>NaN</td>\n",
       "    </tr>\n",
       "    <tr>\n",
       "      <th>...</th>\n",
       "      <td>...</td>\n",
       "      <td>...</td>\n",
       "      <td>...</td>\n",
       "      <td>...</td>\n",
       "      <td>...</td>\n",
       "    </tr>\n",
       "    <tr>\n",
       "      <th>109</th>\n",
       "      <td>warmfuzzymitts@gmail.com</td>\n",
       "      <td>1</td>\n",
       "      <td>warmfuzzymitts@gmail.com</td>\n",
       "      <td>email</td>\n",
       "      <td>NaN</td>\n",
       "    </tr>\n",
       "    <tr>\n",
       "      <th>110</th>\n",
       "      <td>weedal24@students.spprep.org</td>\n",
       "      <td>4</td>\n",
       "      <td>weedal24@students.spprep.org</td>\n",
       "      <td>email</td>\n",
       "      <td>3.0</td>\n",
       "    </tr>\n",
       "    <tr>\n",
       "      <th>111</th>\n",
       "      <td>whitneylapper24@gsbschool.org</td>\n",
       "      <td>2</td>\n",
       "      <td>whitneylapper24@gsbschool.org</td>\n",
       "      <td>email</td>\n",
       "      <td>2.0</td>\n",
       "    </tr>\n",
       "    <tr>\n",
       "      <th>112</th>\n",
       "      <td>willsimmsjr12@gmail.com</td>\n",
       "      <td>2</td>\n",
       "      <td>willsimmsjr12@gmail.com</td>\n",
       "      <td>email</td>\n",
       "      <td>2.0</td>\n",
       "    </tr>\n",
       "    <tr>\n",
       "      <th>113</th>\n",
       "      <td>ysbmire260@gmail.com</td>\n",
       "      <td>2</td>\n",
       "      <td>YsbMire260@gmail.com</td>\n",
       "      <td>email</td>\n",
       "      <td>2.0</td>\n",
       "    </tr>\n",
       "  </tbody>\n",
       "</table>\n",
       "<p>114 rows × 5 columns</p>\n",
       "</div>"
      ],
      "text/plain": [
       "                         Email_Sch  Sch_Count                      Email_ADP  \\\n",
       "0         aidanmsheridan@gmail.com          1       aidanmsheridan@gmail.com   \n",
       "1      aileenwilson11208@gmail.com          1    aileenwilson11208@gmail.com   \n",
       "2              ajazzy206@gmail.com          2            ajazzy206@gmail.com   \n",
       "3            allyrose316@gmail.com          3          allyrose316@gmail.com   \n",
       "4             ameliamcgr@gmail.com          1           ameliamcgr@gmail.com   \n",
       "..                             ...        ...                            ...   \n",
       "109       warmfuzzymitts@gmail.com          1       warmfuzzymitts@gmail.com   \n",
       "110   weedal24@students.spprep.org          4   weedal24@students.spprep.org   \n",
       "111  whitneylapper24@gsbschool.org          2  whitneylapper24@gsbschool.org   \n",
       "112        willsimmsjr12@gmail.com          2        willsimmsjr12@gmail.com   \n",
       "113           ysbmire260@gmail.com          2           YsbMire260@gmail.com   \n",
       "\n",
       "    Matched?  ADP_Count  \n",
       "0      email        1.0  \n",
       "1      email        1.0  \n",
       "2      email        2.0  \n",
       "3      email        2.0  \n",
       "4      email        NaN  \n",
       "..       ...        ...  \n",
       "109    email        NaN  \n",
       "110    email        3.0  \n",
       "111    email        2.0  \n",
       "112    email        2.0  \n",
       "113    email        2.0  \n",
       "\n",
       "[114 rows x 5 columns]"
      ]
     },
     "execution_count": 28,
     "metadata": {},
     "output_type": "execute_result"
    }
   ],
   "source": [
    "counting = counting.merge(GR_ADP, on=\"Email_ADP\", how=\"left\")\n",
    "\n",
    "counting"
   ]
  },
  {
   "cell_type": "code",
   "execution_count": 29,
   "id": "ee6f832b-3801-478b-bb0d-ee51e185e845",
   "metadata": {},
   "outputs": [
    {
     "data": {
      "text/html": [
       "<div>\n",
       "<style scoped>\n",
       "    .dataframe tbody tr th:only-of-type {\n",
       "        vertical-align: middle;\n",
       "    }\n",
       "\n",
       "    .dataframe tbody tr th {\n",
       "        vertical-align: top;\n",
       "    }\n",
       "\n",
       "    .dataframe thead th {\n",
       "        text-align: right;\n",
       "    }\n",
       "</style>\n",
       "<table border=\"1\" class=\"dataframe\">\n",
       "  <thead>\n",
       "    <tr style=\"text-align: right;\">\n",
       "      <th></th>\n",
       "      <th>Email_Sch</th>\n",
       "      <th>Sch_Count</th>\n",
       "      <th>Email_ADP</th>\n",
       "      <th>Matched?</th>\n",
       "      <th>ADP_Count</th>\n",
       "      <th>Diff</th>\n",
       "    </tr>\n",
       "  </thead>\n",
       "  <tbody>\n",
       "    <tr>\n",
       "      <th>0</th>\n",
       "      <td>aidanmsheridan@gmail.com</td>\n",
       "      <td>1</td>\n",
       "      <td>aidanmsheridan@gmail.com</td>\n",
       "      <td>email</td>\n",
       "      <td>1.0</td>\n",
       "      <td>0.0</td>\n",
       "    </tr>\n",
       "    <tr>\n",
       "      <th>1</th>\n",
       "      <td>aileenwilson11208@gmail.com</td>\n",
       "      <td>1</td>\n",
       "      <td>aileenwilson11208@gmail.com</td>\n",
       "      <td>email</td>\n",
       "      <td>1.0</td>\n",
       "      <td>0.0</td>\n",
       "    </tr>\n",
       "    <tr>\n",
       "      <th>2</th>\n",
       "      <td>ajazzy206@gmail.com</td>\n",
       "      <td>2</td>\n",
       "      <td>ajazzy206@gmail.com</td>\n",
       "      <td>email</td>\n",
       "      <td>2.0</td>\n",
       "      <td>0.0</td>\n",
       "    </tr>\n",
       "    <tr>\n",
       "      <th>3</th>\n",
       "      <td>allyrose316@gmail.com</td>\n",
       "      <td>3</td>\n",
       "      <td>allyrose316@gmail.com</td>\n",
       "      <td>email</td>\n",
       "      <td>2.0</td>\n",
       "      <td>1.0</td>\n",
       "    </tr>\n",
       "    <tr>\n",
       "      <th>4</th>\n",
       "      <td>ameliamcgr@gmail.com</td>\n",
       "      <td>1</td>\n",
       "      <td>ameliamcgr@gmail.com</td>\n",
       "      <td>email</td>\n",
       "      <td>NaN</td>\n",
       "      <td>NaN</td>\n",
       "    </tr>\n",
       "    <tr>\n",
       "      <th>...</th>\n",
       "      <td>...</td>\n",
       "      <td>...</td>\n",
       "      <td>...</td>\n",
       "      <td>...</td>\n",
       "      <td>...</td>\n",
       "      <td>...</td>\n",
       "    </tr>\n",
       "    <tr>\n",
       "      <th>109</th>\n",
       "      <td>warmfuzzymitts@gmail.com</td>\n",
       "      <td>1</td>\n",
       "      <td>warmfuzzymitts@gmail.com</td>\n",
       "      <td>email</td>\n",
       "      <td>NaN</td>\n",
       "      <td>NaN</td>\n",
       "    </tr>\n",
       "    <tr>\n",
       "      <th>110</th>\n",
       "      <td>weedal24@students.spprep.org</td>\n",
       "      <td>4</td>\n",
       "      <td>weedal24@students.spprep.org</td>\n",
       "      <td>email</td>\n",
       "      <td>3.0</td>\n",
       "      <td>1.0</td>\n",
       "    </tr>\n",
       "    <tr>\n",
       "      <th>111</th>\n",
       "      <td>whitneylapper24@gsbschool.org</td>\n",
       "      <td>2</td>\n",
       "      <td>whitneylapper24@gsbschool.org</td>\n",
       "      <td>email</td>\n",
       "      <td>2.0</td>\n",
       "      <td>0.0</td>\n",
       "    </tr>\n",
       "    <tr>\n",
       "      <th>112</th>\n",
       "      <td>willsimmsjr12@gmail.com</td>\n",
       "      <td>2</td>\n",
       "      <td>willsimmsjr12@gmail.com</td>\n",
       "      <td>email</td>\n",
       "      <td>2.0</td>\n",
       "      <td>0.0</td>\n",
       "    </tr>\n",
       "    <tr>\n",
       "      <th>113</th>\n",
       "      <td>ysbmire260@gmail.com</td>\n",
       "      <td>2</td>\n",
       "      <td>YsbMire260@gmail.com</td>\n",
       "      <td>email</td>\n",
       "      <td>2.0</td>\n",
       "      <td>0.0</td>\n",
       "    </tr>\n",
       "  </tbody>\n",
       "</table>\n",
       "<p>114 rows × 6 columns</p>\n",
       "</div>"
      ],
      "text/plain": [
       "                         Email_Sch  Sch_Count                      Email_ADP  \\\n",
       "0         aidanmsheridan@gmail.com          1       aidanmsheridan@gmail.com   \n",
       "1      aileenwilson11208@gmail.com          1    aileenwilson11208@gmail.com   \n",
       "2              ajazzy206@gmail.com          2            ajazzy206@gmail.com   \n",
       "3            allyrose316@gmail.com          3          allyrose316@gmail.com   \n",
       "4             ameliamcgr@gmail.com          1           ameliamcgr@gmail.com   \n",
       "..                             ...        ...                            ...   \n",
       "109       warmfuzzymitts@gmail.com          1       warmfuzzymitts@gmail.com   \n",
       "110   weedal24@students.spprep.org          4   weedal24@students.spprep.org   \n",
       "111  whitneylapper24@gsbschool.org          2  whitneylapper24@gsbschool.org   \n",
       "112        willsimmsjr12@gmail.com          2        willsimmsjr12@gmail.com   \n",
       "113           ysbmire260@gmail.com          2           YsbMire260@gmail.com   \n",
       "\n",
       "    Matched?  ADP_Count  Diff  \n",
       "0      email        1.0   0.0  \n",
       "1      email        1.0   0.0  \n",
       "2      email        2.0   0.0  \n",
       "3      email        2.0   1.0  \n",
       "4      email        NaN   NaN  \n",
       "..       ...        ...   ...  \n",
       "109    email        NaN   NaN  \n",
       "110    email        3.0   1.0  \n",
       "111    email        2.0   0.0  \n",
       "112    email        2.0   0.0  \n",
       "113    email        2.0   0.0  \n",
       "\n",
       "[114 rows x 6 columns]"
      ]
     },
     "execution_count": 29,
     "metadata": {},
     "output_type": "execute_result"
    }
   ],
   "source": [
    "#Create Column to Measure difference in shifts\n",
    "#Sch - ADP;\n",
    "# PLUS means more SCH Shifts (relatively good)\n",
    "# MINUS means more ADP shifts (relatively bad)\n",
    "\n",
    "counting[\"Diff\"] = np.where(\n",
    "    counting[\"Sch_Count\"].notna() & counting[\"ADP_Count\"].notna(),\n",
    "    counting[\"Sch_Count\"] - counting[\"ADP_Count\"],\n",
    "    np.nan\n",
    ")\n",
    "\n",
    "counting"
   ]
  },
  {
   "cell_type": "code",
   "execution_count": 30,
   "id": "ee1fe8d8-ec10-4786-a19e-5ec6d616ea62",
   "metadata": {},
   "outputs": [
    {
     "data": {
      "text/plain": [
       "82"
      ]
     },
     "execution_count": 30,
     "metadata": {},
     "output_type": "execute_result"
    }
   ],
   "source": [
    "count_within_range = counting[\"Diff\"].between(-2, 2).sum()\n",
    "count_within_range "
   ]
  },
  {
   "cell_type": "markdown",
   "id": "6241e834-104e-40f6-9a78-07a111adae85",
   "metadata": {},
   "source": [
    "#### Calculate Adoption Rates Per Week"
   ]
  },
  {
   "cell_type": "code",
   "execution_count": 31,
   "id": "85f032bc-a07b-456d-ad70-26c7c4024bbf",
   "metadata": {},
   "outputs": [],
   "source": [
    "def adoption_rates_per_week(start_date, end_date, ADP_DF, SCH_DF, pairing_table):\n",
    "    \n",
    "    #Filter the main ADP and SCH dataframes to the respective timeframes\n",
    "    ADP_DF = ADP_DF[(ADP_DF['Date'] >= start_date) & \n",
    "                    (ADP_DF['Date'] <= end_date)]\n",
    "    \n",
    "    SCH_DF = SCH_DF[(SCH_DF['start_time_est'] >= start_date) & \n",
    "                    (SCH_DF['start_time_est'] <= end_date)]\n",
    "\n",
    "    #Group the ADP and SCH DFs by email\n",
    "    GR_ADP = ADP_DF.groupby(['Email']).size().reset_index(name='ADP_Count')\n",
    "    GR_ADP.rename(columns={\"Email\": \"Email_ADP\"}, inplace=True)\n",
    "    \n",
    "    GR_SCH = SCH_DF.groupby(['assignee_email']).size().reset_index(name='SCH_Count')\n",
    "    GR_SCH.rename(columns={\"assignee_email\": \"Email_Sch\"}, inplace=True)\n",
    "    \n",
    "    #Match the emails with the pairing table\n",
    "    matched_df = GR_SCH.merge(pairing_table, on=\"Email_Sch\", how=\"left\")\n",
    "    matched_df = matched_df.merge(GR_ADP, on=\"Email_ADP\", how=\"left\")\n",
    "    \n",
    "    #Create Column to Measure difference in shifts (plus means more SCH shiftS)\n",
    "    matched_df[\"Diff\"] = np.where(\n",
    "        matched_df[\"SCH_Count\"].notna() & matched_df[\"ADP_Count\"].notna(),\n",
    "        matched_df[\"SCH_Count\"] - matched_df[\"ADP_Count\"],\n",
    "        np.nan\n",
    "    )\n",
    "    \n",
    "    #Calculate the yes/partial/no counts\n",
    "    adoption_yes_count = matched_df[\"Diff\"].between(-2, 2).sum()\n",
    "    adoption_partial_count = matched_df.shape[0] - adoption_yes_count\n",
    "    adoption_no_count = GR_ADP.shape[0] - adoption_yes_count - adoption_partial_count\n",
    "    sum_count = adoption_yes_count + adoption_partial_count + adoption_no_count\n",
    "    \n",
    "    #Calculate the yes/partial/no percents\n",
    "    yes_perc = round(adoption_yes_count / sum_count, 4)\n",
    "    partial_perc = round(adoption_partial_count / sum_count, 4)\n",
    "    no_perc = round(adoption_no_count / sum_count, 4)\n",
    "    \n",
    "    #Format start/end date\n",
    "    formatted_start_date = start_date.strftime(\"%Y-%m-%d\")\n",
    "    formatted_end_date = end_date.strftime(\"%Y-%m-%d\")\n",
    "    \n",
    "    return [formatted_start_date, formatted_end_date, yes_perc, partial_perc, no_perc, sum_count]"
   ]
  },
  {
   "cell_type": "code",
   "execution_count": 46,
   "id": "5fd05364-1739-4db2-90ef-c458785a500e",
   "metadata": {},
   "outputs": [],
   "source": [
    "results = []\n",
    "date_ranges = [\n",
    "    (pd.Timestamp('2023-06-01').date(), pd.Timestamp('2023-06-07').date()),\n",
    "    (pd.Timestamp('2023-06-08').date(), pd.Timestamp('2023-06-14').date()),\n",
    "    (pd.Timestamp('2023-06-15').date(), pd.Timestamp('2023-06-21').date()),\n",
    "    (pd.Timestamp('2023-06-22').date(), pd.Timestamp('2023-06-28').date()),\n",
    "    (pd.Timestamp('2023-06-29').date(), pd.Timestamp('2023-07-05').date()),\n",
    "    (pd.Timestamp('2023-07-06').date(), pd.Timestamp('2023-07-12').date()),\n",
    "    (pd.Timestamp('2023-07-13').date(), pd.Timestamp('2023-07-19').date()),\n",
    "    (pd.Timestamp('2023-07-20').date(), pd.Timestamp('2023-07-26').date()),\n",
    "    (pd.Timestamp('2023-07-27').date(), pd.Timestamp('2023-08-02').date()),\n",
    "    (pd.Timestamp('2023-08-03').date(), pd.Timestamp('2023-08-09').date()),\n",
    "    (pd.Timestamp('2023-08-10').date(), pd.Timestamp('2023-08-16').date())\n",
    "]\n",
    "\n",
    "\n",
    "for start_date, end_date in date_ranges:\n",
    "    week_result = adoption_rates_per_week(start_date, \n",
    "                                          end_date, \n",
    "                                          adp_adoption, \n",
    "                                          final_scheduler_adoption, \n",
    "                                          pairing_table)\n",
    "    results.append(week_result)\n",
    "\n",
    "result_df = pd.DataFrame(results, columns=[\"Start Date\", \"End Date\", \"Yes %\", \"Partial %\", \"No %\", \"Sum Users\"])"
   ]
  },
  {
   "cell_type": "code",
   "execution_count": 47,
   "id": "63b7776b-3f81-4ca1-8293-dbd1eedabdf2",
   "metadata": {},
   "outputs": [
    {
     "data": {
      "text/html": [
       "<div>\n",
       "<style scoped>\n",
       "    .dataframe tbody tr th:only-of-type {\n",
       "        vertical-align: middle;\n",
       "    }\n",
       "\n",
       "    .dataframe tbody tr th {\n",
       "        vertical-align: top;\n",
       "    }\n",
       "\n",
       "    .dataframe thead th {\n",
       "        text-align: right;\n",
       "    }\n",
       "</style>\n",
       "<table border=\"1\" class=\"dataframe\">\n",
       "  <thead>\n",
       "    <tr style=\"text-align: right;\">\n",
       "      <th></th>\n",
       "      <th>Start Date</th>\n",
       "      <th>End Date</th>\n",
       "      <th>Yes %</th>\n",
       "      <th>Partial %</th>\n",
       "      <th>No %</th>\n",
       "      <th>Sum Users</th>\n",
       "    </tr>\n",
       "  </thead>\n",
       "  <tbody>\n",
       "    <tr>\n",
       "      <th>0</th>\n",
       "      <td>2023-06-01</td>\n",
       "      <td>2023-06-07</td>\n",
       "      <td>0.3923</td>\n",
       "      <td>0.1531</td>\n",
       "      <td>0.4545</td>\n",
       "      <td>209</td>\n",
       "    </tr>\n",
       "    <tr>\n",
       "      <th>1</th>\n",
       "      <td>2023-06-08</td>\n",
       "      <td>2023-06-14</td>\n",
       "      <td>0.4035</td>\n",
       "      <td>0.1140</td>\n",
       "      <td>0.4825</td>\n",
       "      <td>228</td>\n",
       "    </tr>\n",
       "    <tr>\n",
       "      <th>2</th>\n",
       "      <td>2023-06-15</td>\n",
       "      <td>2023-06-21</td>\n",
       "      <td>0.3774</td>\n",
       "      <td>0.1736</td>\n",
       "      <td>0.4491</td>\n",
       "      <td>265</td>\n",
       "    </tr>\n",
       "    <tr>\n",
       "      <th>3</th>\n",
       "      <td>2023-06-22</td>\n",
       "      <td>2023-06-28</td>\n",
       "      <td>0.4471</td>\n",
       "      <td>0.1160</td>\n",
       "      <td>0.4369</td>\n",
       "      <td>293</td>\n",
       "    </tr>\n",
       "    <tr>\n",
       "      <th>4</th>\n",
       "      <td>2023-06-29</td>\n",
       "      <td>2023-07-05</td>\n",
       "      <td>0.4448</td>\n",
       "      <td>0.0852</td>\n",
       "      <td>0.4700</td>\n",
       "      <td>317</td>\n",
       "    </tr>\n",
       "    <tr>\n",
       "      <th>5</th>\n",
       "      <td>2023-07-06</td>\n",
       "      <td>2023-07-12</td>\n",
       "      <td>0.3862</td>\n",
       "      <td>0.0605</td>\n",
       "      <td>0.5533</td>\n",
       "      <td>347</td>\n",
       "    </tr>\n",
       "    <tr>\n",
       "      <th>6</th>\n",
       "      <td>2023-07-13</td>\n",
       "      <td>2023-07-19</td>\n",
       "      <td>0.3810</td>\n",
       "      <td>0.0655</td>\n",
       "      <td>0.5536</td>\n",
       "      <td>336</td>\n",
       "    </tr>\n",
       "    <tr>\n",
       "      <th>7</th>\n",
       "      <td>2023-07-20</td>\n",
       "      <td>2023-07-26</td>\n",
       "      <td>0.4029</td>\n",
       "      <td>0.0457</td>\n",
       "      <td>0.5514</td>\n",
       "      <td>350</td>\n",
       "    </tr>\n",
       "    <tr>\n",
       "      <th>8</th>\n",
       "      <td>2023-07-27</td>\n",
       "      <td>2023-08-02</td>\n",
       "      <td>0.4152</td>\n",
       "      <td>0.0727</td>\n",
       "      <td>0.5121</td>\n",
       "      <td>330</td>\n",
       "    </tr>\n",
       "    <tr>\n",
       "      <th>9</th>\n",
       "      <td>2023-08-03</td>\n",
       "      <td>2023-08-09</td>\n",
       "      <td>0.5096</td>\n",
       "      <td>0.1178</td>\n",
       "      <td>0.3726</td>\n",
       "      <td>314</td>\n",
       "    </tr>\n",
       "    <tr>\n",
       "      <th>10</th>\n",
       "      <td>2023-08-10</td>\n",
       "      <td>2023-08-16</td>\n",
       "      <td>0.5988</td>\n",
       "      <td>0.0679</td>\n",
       "      <td>0.3333</td>\n",
       "      <td>324</td>\n",
       "    </tr>\n",
       "  </tbody>\n",
       "</table>\n",
       "</div>"
      ],
      "text/plain": [
       "    Start Date    End Date   Yes %  Partial %    No %  Sum Users\n",
       "0   2023-06-01  2023-06-07  0.3923     0.1531  0.4545        209\n",
       "1   2023-06-08  2023-06-14  0.4035     0.1140  0.4825        228\n",
       "2   2023-06-15  2023-06-21  0.3774     0.1736  0.4491        265\n",
       "3   2023-06-22  2023-06-28  0.4471     0.1160  0.4369        293\n",
       "4   2023-06-29  2023-07-05  0.4448     0.0852  0.4700        317\n",
       "5   2023-07-06  2023-07-12  0.3862     0.0605  0.5533        347\n",
       "6   2023-07-13  2023-07-19  0.3810     0.0655  0.5536        336\n",
       "7   2023-07-20  2023-07-26  0.4029     0.0457  0.5514        350\n",
       "8   2023-07-27  2023-08-02  0.4152     0.0727  0.5121        330\n",
       "9   2023-08-03  2023-08-09  0.5096     0.1178  0.3726        314\n",
       "10  2023-08-10  2023-08-16  0.5988     0.0679  0.3333        324"
      ]
     },
     "execution_count": 47,
     "metadata": {},
     "output_type": "execute_result"
    }
   ],
   "source": [
    "result_df"
   ]
  },
  {
   "cell_type": "code",
   "execution_count": 48,
   "id": "7b5765c9-f121-496b-86fa-41f924a9e95f",
   "metadata": {},
   "outputs": [
    {
     "data": {
      "application/vnd.plotly.v1+json": {
       "config": {
        "plotlyServerURL": "https://plot.ly"
       },
       "data": [
        {
         "alignmentgroup": "True",
         "hovertemplate": "<b>%{x}</b><br>%{y:.0%}<extra></extra>",
         "legendgroup": "Yes %",
         "marker": {
          "color": "#44B699",
          "pattern": {
           "shape": ""
          }
         },
         "name": "Yes %",
         "offsetgroup": "Yes %",
         "orientation": "v",
         "showlegend": true,
         "textposition": "auto",
         "type": "bar",
         "x": [
          "2023-06-01",
          "2023-06-08",
          "2023-06-15",
          "2023-06-22",
          "2023-06-29",
          "2023-07-06",
          "2023-07-13",
          "2023-07-20",
          "2023-07-27",
          "2023-08-03",
          "2023-08-10"
         ],
         "xaxis": "x",
         "y": [
          0.3923,
          0.4035,
          0.3774,
          0.4471,
          0.4448,
          0.3862,
          0.381,
          0.4029,
          0.4152,
          0.5096,
          0.5988
         ],
         "yaxis": "y"
        },
        {
         "alignmentgroup": "True",
         "hovertemplate": "<b>%{x}</b><br>%{y:.0%}<extra></extra>",
         "legendgroup": "Partial %",
         "marker": {
          "color": "#FFE79A",
          "pattern": {
           "shape": ""
          }
         },
         "name": "Partial %",
         "offsetgroup": "Partial %",
         "orientation": "v",
         "showlegend": true,
         "textposition": "auto",
         "type": "bar",
         "x": [
          "2023-06-01",
          "2023-06-08",
          "2023-06-15",
          "2023-06-22",
          "2023-06-29",
          "2023-07-06",
          "2023-07-13",
          "2023-07-20",
          "2023-07-27",
          "2023-08-03",
          "2023-08-10"
         ],
         "xaxis": "x",
         "y": [
          0.1531,
          0.114,
          0.1736,
          0.116,
          0.0852,
          0.0605,
          0.0655,
          0.0457,
          0.0727,
          0.1178,
          0.0679
         ],
         "yaxis": "y"
        },
        {
         "alignmentgroup": "True",
         "hovertemplate": "<b>%{x}</b><br>%{y:.0%}<extra></extra>",
         "legendgroup": "No %",
         "marker": {
          "color": "#EDEDED",
          "pattern": {
           "shape": ""
          }
         },
         "name": "No %",
         "offsetgroup": "No %",
         "orientation": "v",
         "showlegend": true,
         "textposition": "auto",
         "type": "bar",
         "x": [
          "2023-06-01",
          "2023-06-08",
          "2023-06-15",
          "2023-06-22",
          "2023-06-29",
          "2023-07-06",
          "2023-07-13",
          "2023-07-20",
          "2023-07-27",
          "2023-08-03",
          "2023-08-10"
         ],
         "xaxis": "x",
         "y": [
          0.4545,
          0.4825,
          0.4491,
          0.4369,
          0.47,
          0.5533,
          0.5536,
          0.5514,
          0.5121,
          0.3726,
          0.3333
         ],
         "yaxis": "y"
        }
       ],
       "layout": {
        "autosize": true,
        "barmode": "stack",
        "hovermode": "x",
        "legend": {
         "title": {
          "text": "Percentage"
         },
         "tracegroupgap": 0
        },
        "plot_bgcolor": "white",
        "template": {
         "data": {
          "bar": [
           {
            "error_x": {
             "color": "#2a3f5f"
            },
            "error_y": {
             "color": "#2a3f5f"
            },
            "marker": {
             "line": {
              "color": "#E5ECF6",
              "width": 0.5
             },
             "pattern": {
              "fillmode": "overlay",
              "size": 10,
              "solidity": 0.2
             }
            },
            "type": "bar"
           }
          ],
          "barpolar": [
           {
            "marker": {
             "line": {
              "color": "#E5ECF6",
              "width": 0.5
             },
             "pattern": {
              "fillmode": "overlay",
              "size": 10,
              "solidity": 0.2
             }
            },
            "type": "barpolar"
           }
          ],
          "carpet": [
           {
            "aaxis": {
             "endlinecolor": "#2a3f5f",
             "gridcolor": "white",
             "linecolor": "white",
             "minorgridcolor": "white",
             "startlinecolor": "#2a3f5f"
            },
            "baxis": {
             "endlinecolor": "#2a3f5f",
             "gridcolor": "white",
             "linecolor": "white",
             "minorgridcolor": "white",
             "startlinecolor": "#2a3f5f"
            },
            "type": "carpet"
           }
          ],
          "choropleth": [
           {
            "colorbar": {
             "outlinewidth": 0,
             "ticks": ""
            },
            "type": "choropleth"
           }
          ],
          "contour": [
           {
            "colorbar": {
             "outlinewidth": 0,
             "ticks": ""
            },
            "colorscale": [
             [
              0,
              "#0d0887"
             ],
             [
              0.1111111111111111,
              "#46039f"
             ],
             [
              0.2222222222222222,
              "#7201a8"
             ],
             [
              0.3333333333333333,
              "#9c179e"
             ],
             [
              0.4444444444444444,
              "#bd3786"
             ],
             [
              0.5555555555555556,
              "#d8576b"
             ],
             [
              0.6666666666666666,
              "#ed7953"
             ],
             [
              0.7777777777777778,
              "#fb9f3a"
             ],
             [
              0.8888888888888888,
              "#fdca26"
             ],
             [
              1,
              "#f0f921"
             ]
            ],
            "type": "contour"
           }
          ],
          "contourcarpet": [
           {
            "colorbar": {
             "outlinewidth": 0,
             "ticks": ""
            },
            "type": "contourcarpet"
           }
          ],
          "heatmap": [
           {
            "colorbar": {
             "outlinewidth": 0,
             "ticks": ""
            },
            "colorscale": [
             [
              0,
              "#0d0887"
             ],
             [
              0.1111111111111111,
              "#46039f"
             ],
             [
              0.2222222222222222,
              "#7201a8"
             ],
             [
              0.3333333333333333,
              "#9c179e"
             ],
             [
              0.4444444444444444,
              "#bd3786"
             ],
             [
              0.5555555555555556,
              "#d8576b"
             ],
             [
              0.6666666666666666,
              "#ed7953"
             ],
             [
              0.7777777777777778,
              "#fb9f3a"
             ],
             [
              0.8888888888888888,
              "#fdca26"
             ],
             [
              1,
              "#f0f921"
             ]
            ],
            "type": "heatmap"
           }
          ],
          "heatmapgl": [
           {
            "colorbar": {
             "outlinewidth": 0,
             "ticks": ""
            },
            "colorscale": [
             [
              0,
              "#0d0887"
             ],
             [
              0.1111111111111111,
              "#46039f"
             ],
             [
              0.2222222222222222,
              "#7201a8"
             ],
             [
              0.3333333333333333,
              "#9c179e"
             ],
             [
              0.4444444444444444,
              "#bd3786"
             ],
             [
              0.5555555555555556,
              "#d8576b"
             ],
             [
              0.6666666666666666,
              "#ed7953"
             ],
             [
              0.7777777777777778,
              "#fb9f3a"
             ],
             [
              0.8888888888888888,
              "#fdca26"
             ],
             [
              1,
              "#f0f921"
             ]
            ],
            "type": "heatmapgl"
           }
          ],
          "histogram": [
           {
            "marker": {
             "pattern": {
              "fillmode": "overlay",
              "size": 10,
              "solidity": 0.2
             }
            },
            "type": "histogram"
           }
          ],
          "histogram2d": [
           {
            "colorbar": {
             "outlinewidth": 0,
             "ticks": ""
            },
            "colorscale": [
             [
              0,
              "#0d0887"
             ],
             [
              0.1111111111111111,
              "#46039f"
             ],
             [
              0.2222222222222222,
              "#7201a8"
             ],
             [
              0.3333333333333333,
              "#9c179e"
             ],
             [
              0.4444444444444444,
              "#bd3786"
             ],
             [
              0.5555555555555556,
              "#d8576b"
             ],
             [
              0.6666666666666666,
              "#ed7953"
             ],
             [
              0.7777777777777778,
              "#fb9f3a"
             ],
             [
              0.8888888888888888,
              "#fdca26"
             ],
             [
              1,
              "#f0f921"
             ]
            ],
            "type": "histogram2d"
           }
          ],
          "histogram2dcontour": [
           {
            "colorbar": {
             "outlinewidth": 0,
             "ticks": ""
            },
            "colorscale": [
             [
              0,
              "#0d0887"
             ],
             [
              0.1111111111111111,
              "#46039f"
             ],
             [
              0.2222222222222222,
              "#7201a8"
             ],
             [
              0.3333333333333333,
              "#9c179e"
             ],
             [
              0.4444444444444444,
              "#bd3786"
             ],
             [
              0.5555555555555556,
              "#d8576b"
             ],
             [
              0.6666666666666666,
              "#ed7953"
             ],
             [
              0.7777777777777778,
              "#fb9f3a"
             ],
             [
              0.8888888888888888,
              "#fdca26"
             ],
             [
              1,
              "#f0f921"
             ]
            ],
            "type": "histogram2dcontour"
           }
          ],
          "mesh3d": [
           {
            "colorbar": {
             "outlinewidth": 0,
             "ticks": ""
            },
            "type": "mesh3d"
           }
          ],
          "parcoords": [
           {
            "line": {
             "colorbar": {
              "outlinewidth": 0,
              "ticks": ""
             }
            },
            "type": "parcoords"
           }
          ],
          "pie": [
           {
            "automargin": true,
            "type": "pie"
           }
          ],
          "scatter": [
           {
            "fillpattern": {
             "fillmode": "overlay",
             "size": 10,
             "solidity": 0.2
            },
            "type": "scatter"
           }
          ],
          "scatter3d": [
           {
            "line": {
             "colorbar": {
              "outlinewidth": 0,
              "ticks": ""
             }
            },
            "marker": {
             "colorbar": {
              "outlinewidth": 0,
              "ticks": ""
             }
            },
            "type": "scatter3d"
           }
          ],
          "scattercarpet": [
           {
            "marker": {
             "colorbar": {
              "outlinewidth": 0,
              "ticks": ""
             }
            },
            "type": "scattercarpet"
           }
          ],
          "scattergeo": [
           {
            "marker": {
             "colorbar": {
              "outlinewidth": 0,
              "ticks": ""
             }
            },
            "type": "scattergeo"
           }
          ],
          "scattergl": [
           {
            "marker": {
             "colorbar": {
              "outlinewidth": 0,
              "ticks": ""
             }
            },
            "type": "scattergl"
           }
          ],
          "scattermapbox": [
           {
            "marker": {
             "colorbar": {
              "outlinewidth": 0,
              "ticks": ""
             }
            },
            "type": "scattermapbox"
           }
          ],
          "scatterpolar": [
           {
            "marker": {
             "colorbar": {
              "outlinewidth": 0,
              "ticks": ""
             }
            },
            "type": "scatterpolar"
           }
          ],
          "scatterpolargl": [
           {
            "marker": {
             "colorbar": {
              "outlinewidth": 0,
              "ticks": ""
             }
            },
            "type": "scatterpolargl"
           }
          ],
          "scatterternary": [
           {
            "marker": {
             "colorbar": {
              "outlinewidth": 0,
              "ticks": ""
             }
            },
            "type": "scatterternary"
           }
          ],
          "surface": [
           {
            "colorbar": {
             "outlinewidth": 0,
             "ticks": ""
            },
            "colorscale": [
             [
              0,
              "#0d0887"
             ],
             [
              0.1111111111111111,
              "#46039f"
             ],
             [
              0.2222222222222222,
              "#7201a8"
             ],
             [
              0.3333333333333333,
              "#9c179e"
             ],
             [
              0.4444444444444444,
              "#bd3786"
             ],
             [
              0.5555555555555556,
              "#d8576b"
             ],
             [
              0.6666666666666666,
              "#ed7953"
             ],
             [
              0.7777777777777778,
              "#fb9f3a"
             ],
             [
              0.8888888888888888,
              "#fdca26"
             ],
             [
              1,
              "#f0f921"
             ]
            ],
            "type": "surface"
           }
          ],
          "table": [
           {
            "cells": {
             "fill": {
              "color": "#EBF0F8"
             },
             "line": {
              "color": "white"
             }
            },
            "header": {
             "fill": {
              "color": "#C8D4E3"
             },
             "line": {
              "color": "white"
             }
            },
            "type": "table"
           }
          ]
         },
         "layout": {
          "annotationdefaults": {
           "arrowcolor": "#2a3f5f",
           "arrowhead": 0,
           "arrowwidth": 1
          },
          "autotypenumbers": "strict",
          "coloraxis": {
           "colorbar": {
            "outlinewidth": 0,
            "ticks": ""
           }
          },
          "colorscale": {
           "diverging": [
            [
             0,
             "#8e0152"
            ],
            [
             0.1,
             "#c51b7d"
            ],
            [
             0.2,
             "#de77ae"
            ],
            [
             0.3,
             "#f1b6da"
            ],
            [
             0.4,
             "#fde0ef"
            ],
            [
             0.5,
             "#f7f7f7"
            ],
            [
             0.6,
             "#e6f5d0"
            ],
            [
             0.7,
             "#b8e186"
            ],
            [
             0.8,
             "#7fbc41"
            ],
            [
             0.9,
             "#4d9221"
            ],
            [
             1,
             "#276419"
            ]
           ],
           "sequential": [
            [
             0,
             "#0d0887"
            ],
            [
             0.1111111111111111,
             "#46039f"
            ],
            [
             0.2222222222222222,
             "#7201a8"
            ],
            [
             0.3333333333333333,
             "#9c179e"
            ],
            [
             0.4444444444444444,
             "#bd3786"
            ],
            [
             0.5555555555555556,
             "#d8576b"
            ],
            [
             0.6666666666666666,
             "#ed7953"
            ],
            [
             0.7777777777777778,
             "#fb9f3a"
            ],
            [
             0.8888888888888888,
             "#fdca26"
            ],
            [
             1,
             "#f0f921"
            ]
           ],
           "sequentialminus": [
            [
             0,
             "#0d0887"
            ],
            [
             0.1111111111111111,
             "#46039f"
            ],
            [
             0.2222222222222222,
             "#7201a8"
            ],
            [
             0.3333333333333333,
             "#9c179e"
            ],
            [
             0.4444444444444444,
             "#bd3786"
            ],
            [
             0.5555555555555556,
             "#d8576b"
            ],
            [
             0.6666666666666666,
             "#ed7953"
            ],
            [
             0.7777777777777778,
             "#fb9f3a"
            ],
            [
             0.8888888888888888,
             "#fdca26"
            ],
            [
             1,
             "#f0f921"
            ]
           ]
          },
          "colorway": [
           "#636efa",
           "#EF553B",
           "#00cc96",
           "#ab63fa",
           "#FFA15A",
           "#19d3f3",
           "#FF6692",
           "#B6E880",
           "#FF97FF",
           "#FECB52"
          ],
          "font": {
           "color": "#2a3f5f"
          },
          "geo": {
           "bgcolor": "white",
           "lakecolor": "white",
           "landcolor": "#E5ECF6",
           "showlakes": true,
           "showland": true,
           "subunitcolor": "white"
          },
          "hoverlabel": {
           "align": "left"
          },
          "hovermode": "closest",
          "mapbox": {
           "style": "light"
          },
          "paper_bgcolor": "white",
          "plot_bgcolor": "#E5ECF6",
          "polar": {
           "angularaxis": {
            "gridcolor": "white",
            "linecolor": "white",
            "ticks": ""
           },
           "bgcolor": "#E5ECF6",
           "radialaxis": {
            "gridcolor": "white",
            "linecolor": "white",
            "ticks": ""
           }
          },
          "scene": {
           "xaxis": {
            "backgroundcolor": "#E5ECF6",
            "gridcolor": "white",
            "gridwidth": 2,
            "linecolor": "white",
            "showbackground": true,
            "ticks": "",
            "zerolinecolor": "white"
           },
           "yaxis": {
            "backgroundcolor": "#E5ECF6",
            "gridcolor": "white",
            "gridwidth": 2,
            "linecolor": "white",
            "showbackground": true,
            "ticks": "",
            "zerolinecolor": "white"
           },
           "zaxis": {
            "backgroundcolor": "#E5ECF6",
            "gridcolor": "white",
            "gridwidth": 2,
            "linecolor": "white",
            "showbackground": true,
            "ticks": "",
            "zerolinecolor": "white"
           }
          },
          "shapedefaults": {
           "line": {
            "color": "#2a3f5f"
           }
          },
          "ternary": {
           "aaxis": {
            "gridcolor": "white",
            "linecolor": "white",
            "ticks": ""
           },
           "baxis": {
            "gridcolor": "white",
            "linecolor": "white",
            "ticks": ""
           },
           "bgcolor": "#E5ECF6",
           "caxis": {
            "gridcolor": "white",
            "linecolor": "white",
            "ticks": ""
           }
          },
          "title": {
           "x": 0.05
          },
          "xaxis": {
           "automargin": true,
           "gridcolor": "white",
           "linecolor": "white",
           "ticks": "",
           "title": {
            "standoff": 15
           },
           "zerolinecolor": "white",
           "zerolinewidth": 2
          },
          "yaxis": {
           "automargin": true,
           "gridcolor": "white",
           "linecolor": "white",
           "ticks": "",
           "title": {
            "standoff": 15
           },
           "zerolinecolor": "white",
           "zerolinewidth": 2
          }
         }
        },
        "title": {
         "text": "Stacked Bar Chart of Yes%, Partial%, and No%"
        },
        "xaxis": {
         "anchor": "y",
         "autorange": true,
         "domain": [
          0,
          1
         ],
         "range": [
          "2023-05-28 12:00",
          "2023-08-13 12:00"
         ],
         "title": {
          "text": "Start Date"
         },
         "type": "date"
        },
        "yaxis": {
         "anchor": "x",
         "autorange": true,
         "domain": [
          0,
          1
         ],
         "range": [
          0,
          1.0527368421052632
         ],
         "tickformat": ".0%",
         "title": {
          "text": "Percentage"
         },
         "type": "linear"
        }
       }
      },
      "image/png": "[encoded data removed]",
      "text/html": [
       "<div>                            <div id=\"8f14f189-08df-4fc1-b0f1-5fb16b5ea29f\" class=\"plotly-graph-div\" style=\"height:500px; width:100%;\"></div>            <script type=\"text/javascript\">                require([\"plotly\"], function(Plotly) {                    window.PLOTLYENV=window.PLOTLYENV || {};                                    if (document.getElementById(\"8f14f189-08df-4fc1-b0f1-5fb16b5ea29f\")) {                    Plotly.newPlot(                        \"8f14f189-08df-4fc1-b0f1-5fb16b5ea29f\",                        [{\"alignmentgroup\":\"True\",\"hovertemplate\":\"<b>%{x}</b><br>%{y:.0%}<extra></extra>\",\"legendgroup\":\"Yes %\",\"marker\":{\"color\":\"#44B699\",\"pattern\":{\"shape\":\"\"}},\"name\":\"Yes %\",\"offsetgroup\":\"Yes %\",\"orientation\":\"v\",\"showlegend\":true,\"textposition\":\"auto\",\"x\":[\"2023-06-01\",\"2023-06-08\",\"2023-06-15\",\"2023-06-22\",\"2023-06-29\",\"2023-07-06\",\"2023-07-13\",\"2023-07-20\",\"2023-07-27\",\"2023-08-03\",\"2023-08-10\"],\"xaxis\":\"x\",\"y\":[0.3923,0.4035,0.3774,0.4471,0.4448,0.3862,0.381,0.4029,0.4152,0.5096,0.5988],\"yaxis\":\"y\",\"type\":\"bar\"},{\"alignmentgroup\":\"True\",\"hovertemplate\":\"<b>%{x}</b><br>%{y:.0%}<extra></extra>\",\"legendgroup\":\"Partial %\",\"marker\":{\"color\":\"#FFE79A\",\"pattern\":{\"shape\":\"\"}},\"name\":\"Partial %\",\"offsetgroup\":\"Partial %\",\"orientation\":\"v\",\"showlegend\":true,\"textposition\":\"auto\",\"x\":[\"2023-06-01\",\"2023-06-08\",\"2023-06-15\",\"2023-06-22\",\"2023-06-29\",\"2023-07-06\",\"2023-07-13\",\"2023-07-20\",\"2023-07-27\",\"2023-08-03\",\"2023-08-10\"],\"xaxis\":\"x\",\"y\":[0.1531,0.114,0.1736,0.116,0.0852,0.0605,0.0655,0.0457,0.0727,0.1178,0.0679],\"yaxis\":\"y\",\"type\":\"bar\"},{\"alignmentgroup\":\"True\",\"hovertemplate\":\"<b>%{x}</b><br>%{y:.0%}<extra></extra>\",\"legendgroup\":\"No %\",\"marker\":{\"color\":\"#EDEDED\",\"pattern\":{\"shape\":\"\"}},\"name\":\"No %\",\"offsetgroup\":\"No %\",\"orientation\":\"v\",\"showlegend\":true,\"textposition\":\"auto\",\"x\":[\"2023-06-01\",\"2023-06-08\",\"2023-06-15\",\"2023-06-22\",\"2023-06-29\",\"2023-07-06\",\"2023-07-13\",\"2023-07-20\",\"2023-07-27\",\"2023-08-03\",\"2023-08-10\"],\"xaxis\":\"x\",\"y\":[0.4545,0.4825,0.4491,0.4369,0.47,0.5533,0.5536,0.5514,0.5121,0.3726,0.3333],\"yaxis\":\"y\",\"type\":\"bar\"}],                        {\"template\":{\"data\":{\"histogram2dcontour\":[{\"type\":\"histogram2dcontour\",\"colorbar\":{\"outlinewidth\":0,\"ticks\":\"\"},\"colorscale\":[[0.0,\"#0d0887\"],[0.1111111111111111,\"#46039f\"],[0.2222222222222222,\"#7201a8\"],[0.3333333333333333,\"#9c179e\"],[0.4444444444444444,\"#bd3786\"],[0.5555555555555556,\"#d8576b\"],[0.6666666666666666,\"#ed7953\"],[0.7777777777777778,\"#fb9f3a\"],[0.8888888888888888,\"#fdca26\"],[1.0,\"#f0f921\"]]}],\"choropleth\":[{\"type\":\"choropleth\",\"colorbar\":{\"outlinewidth\":0,\"ticks\":\"\"}}],\"histogram2d\":[{\"type\":\"histogram2d\",\"colorbar\":{\"outlinewidth\":0,\"ticks\":\"\"},\"colorscale\":[[0.0,\"#0d0887\"],[0.1111111111111111,\"#46039f\"],[0.2222222222222222,\"#7201a8\"],[0.3333333333333333,\"#9c179e\"],[0.4444444444444444,\"#bd3786\"],[0.5555555555555556,\"#d8576b\"],[0.6666666666666666,\"#ed7953\"],[0.7777777777777778,\"#fb9f3a\"],[0.8888888888888888,\"#fdca26\"],[1.0,\"#f0f921\"]]}],\"heatmap\":[{\"type\":\"heatmap\",\"colorbar\":{\"outlinewidth\":0,\"ticks\":\"\"},\"colorscale\":[[0.0,\"#0d0887\"],[0.1111111111111111,\"#46039f\"],[0.2222222222222222,\"#7201a8\"],[0.3333333333333333,\"#9c179e\"],[0.4444444444444444,\"#bd3786\"],[0.5555555555555556,\"#d8576b\"],[0.6666666666666666,\"#ed7953\"],[0.7777777777777778,\"#fb9f3a\"],[0.8888888888888888,\"#fdca26\"],[1.0,\"#f0f921\"]]}],\"heatmapgl\":[{\"type\":\"heatmapgl\",\"colorbar\":{\"outlinewidth\":0,\"ticks\":\"\"},\"colorscale\":[[0.0,\"#0d0887\"],[0.1111111111111111,\"#46039f\"],[0.2222222222222222,\"#7201a8\"],[0.3333333333333333,\"#9c179e\"],[0.4444444444444444,\"#bd3786\"],[0.5555555555555556,\"#d8576b\"],[0.6666666666666666,\"#ed7953\"],[0.7777777777777778,\"#fb9f3a\"],[0.8888888888888888,\"#fdca26\"],[1.0,\"#f0f921\"]]}],\"contourcarpet\":[{\"type\":\"contourcarpet\",\"colorbar\":{\"outlinewidth\":0,\"ticks\":\"\"}}],\"contour\":[{\"type\":\"contour\",\"colorbar\":{\"outlinewidth\":0,\"ticks\":\"\"},\"colorscale\":[[0.0,\"#0d0887\"],[0.1111111111111111,\"#46039f\"],[0.2222222222222222,\"#7201a8\"],[0.3333333333333333,\"#9c179e\"],[0.4444444444444444,\"#bd3786\"],[0.5555555555555556,\"#d8576b\"],[0.6666666666666666,\"#ed7953\"],[0.7777777777777778,\"#fb9f3a\"],[0.8888888888888888,\"#fdca26\"],[1.0,\"#f0f921\"]]}],\"surface\":[{\"type\":\"surface\",\"colorbar\":{\"outlinewidth\":0,\"ticks\":\"\"},\"colorscale\":[[0.0,\"#0d0887\"],[0.1111111111111111,\"#46039f\"],[0.2222222222222222,\"#7201a8\"],[0.3333333333333333,\"#9c179e\"],[0.4444444444444444,\"#bd3786\"],[0.5555555555555556,\"#d8576b\"],[0.6666666666666666,\"#ed7953\"],[0.7777777777777778,\"#fb9f3a\"],[0.8888888888888888,\"#fdca26\"],[1.0,\"#f0f921\"]]}],\"mesh3d\":[{\"type\":\"mesh3d\",\"colorbar\":{\"outlinewidth\":0,\"ticks\":\"\"}}],\"scatter\":[{\"fillpattern\":{\"fillmode\":\"overlay\",\"size\":10,\"solidity\":0.2},\"type\":\"scatter\"}],\"parcoords\":[{\"type\":\"parcoords\",\"line\":{\"colorbar\":{\"outlinewidth\":0,\"ticks\":\"\"}}}],\"scatterpolargl\":[{\"type\":\"scatterpolargl\",\"marker\":{\"colorbar\":{\"outlinewidth\":0,\"ticks\":\"\"}}}],\"bar\":[{\"error_x\":{\"color\":\"#2a3f5f\"},\"error_y\":{\"color\":\"#2a3f5f\"},\"marker\":{\"line\":{\"color\":\"#E5ECF6\",\"width\":0.5},\"pattern\":{\"fillmode\":\"overlay\",\"size\":10,\"solidity\":0.2}},\"type\":\"bar\"}],\"scattergeo\":[{\"type\":\"scattergeo\",\"marker\":{\"colorbar\":{\"outlinewidth\":0,\"ticks\":\"\"}}}],\"scatterpolar\":[{\"type\":\"scatterpolar\",\"marker\":{\"colorbar\":{\"outlinewidth\":0,\"ticks\":\"\"}}}],\"histogram\":[{\"marker\":{\"pattern\":{\"fillmode\":\"overlay\",\"size\":10,\"solidity\":0.2}},\"type\":\"histogram\"}],\"scattergl\":[{\"type\":\"scattergl\",\"marker\":{\"colorbar\":{\"outlinewidth\":0,\"ticks\":\"\"}}}],\"scatter3d\":[{\"type\":\"scatter3d\",\"line\":{\"colorbar\":{\"outlinewidth\":0,\"ticks\":\"\"}},\"marker\":{\"colorbar\":{\"outlinewidth\":0,\"ticks\":\"\"}}}],\"scattermapbox\":[{\"type\":\"scattermapbox\",\"marker\":{\"colorbar\":{\"outlinewidth\":0,\"ticks\":\"\"}}}],\"scatterternary\":[{\"type\":\"scatterternary\",\"marker\":{\"colorbar\":{\"outlinewidth\":0,\"ticks\":\"\"}}}],\"scattercarpet\":[{\"type\":\"scattercarpet\",\"marker\":{\"colorbar\":{\"outlinewidth\":0,\"ticks\":\"\"}}}],\"carpet\":[{\"aaxis\":{\"endlinecolor\":\"#2a3f5f\",\"gridcolor\":\"white\",\"linecolor\":\"white\",\"minorgridcolor\":\"white\",\"startlinecolor\":\"#2a3f5f\"},\"baxis\":{\"endlinecolor\":\"#2a3f5f\",\"gridcolor\":\"white\",\"linecolor\":\"white\",\"minorgridcolor\":\"white\",\"startlinecolor\":\"#2a3f5f\"},\"type\":\"carpet\"}],\"table\":[{\"cells\":{\"fill\":{\"color\":\"#EBF0F8\"},\"line\":{\"color\":\"white\"}},\"header\":{\"fill\":{\"color\":\"#C8D4E3\"},\"line\":{\"color\":\"white\"}},\"type\":\"table\"}],\"barpolar\":[{\"marker\":{\"line\":{\"color\":\"#E5ECF6\",\"width\":0.5},\"pattern\":{\"fillmode\":\"overlay\",\"size\":10,\"solidity\":0.2}},\"type\":\"barpolar\"}],\"pie\":[{\"automargin\":true,\"type\":\"pie\"}]},\"layout\":{\"autotypenumbers\":\"strict\",\"colorway\":[\"#636efa\",\"#EF553B\",\"#00cc96\",\"#ab63fa\",\"#FFA15A\",\"#19d3f3\",\"#FF6692\",\"#B6E880\",\"#FF97FF\",\"#FECB52\"],\"font\":{\"color\":\"#2a3f5f\"},\"hovermode\":\"closest\",\"hoverlabel\":{\"align\":\"left\"},\"paper_bgcolor\":\"white\",\"plot_bgcolor\":\"#E5ECF6\",\"polar\":{\"bgcolor\":\"#E5ECF6\",\"angularaxis\":{\"gridcolor\":\"white\",\"linecolor\":\"white\",\"ticks\":\"\"},\"radialaxis\":{\"gridcolor\":\"white\",\"linecolor\":\"white\",\"ticks\":\"\"}},\"ternary\":{\"bgcolor\":\"#E5ECF6\",\"aaxis\":{\"gridcolor\":\"white\",\"linecolor\":\"white\",\"ticks\":\"\"},\"baxis\":{\"gridcolor\":\"white\",\"linecolor\":\"white\",\"ticks\":\"\"},\"caxis\":{\"gridcolor\":\"white\",\"linecolor\":\"white\",\"ticks\":\"\"}},\"coloraxis\":{\"colorbar\":{\"outlinewidth\":0,\"ticks\":\"\"}},\"colorscale\":{\"sequential\":[[0.0,\"#0d0887\"],[0.1111111111111111,\"#46039f\"],[0.2222222222222222,\"#7201a8\"],[0.3333333333333333,\"#9c179e\"],[0.4444444444444444,\"#bd3786\"],[0.5555555555555556,\"#d8576b\"],[0.6666666666666666,\"#ed7953\"],[0.7777777777777778,\"#fb9f3a\"],[0.8888888888888888,\"#fdca26\"],[1.0,\"#f0f921\"]],\"sequentialminus\":[[0.0,\"#0d0887\"],[0.1111111111111111,\"#46039f\"],[0.2222222222222222,\"#7201a8\"],[0.3333333333333333,\"#9c179e\"],[0.4444444444444444,\"#bd3786\"],[0.5555555555555556,\"#d8576b\"],[0.6666666666666666,\"#ed7953\"],[0.7777777777777778,\"#fb9f3a\"],[0.8888888888888888,\"#fdca26\"],[1.0,\"#f0f921\"]],\"diverging\":[[0,\"#8e0152\"],[0.1,\"#c51b7d\"],[0.2,\"#de77ae\"],[0.3,\"#f1b6da\"],[0.4,\"#fde0ef\"],[0.5,\"#f7f7f7\"],[0.6,\"#e6f5d0\"],[0.7,\"#b8e186\"],[0.8,\"#7fbc41\"],[0.9,\"#4d9221\"],[1,\"#276419\"]]},\"xaxis\":{\"gridcolor\":\"white\",\"linecolor\":\"white\",\"ticks\":\"\",\"title\":{\"standoff\":15},\"zerolinecolor\":\"white\",\"automargin\":true,\"zerolinewidth\":2},\"yaxis\":{\"gridcolor\":\"white\",\"linecolor\":\"white\",\"ticks\":\"\",\"title\":{\"standoff\":15},\"zerolinecolor\":\"white\",\"automargin\":true,\"zerolinewidth\":2},\"scene\":{\"xaxis\":{\"backgroundcolor\":\"#E5ECF6\",\"gridcolor\":\"white\",\"linecolor\":\"white\",\"showbackground\":true,\"ticks\":\"\",\"zerolinecolor\":\"white\",\"gridwidth\":2},\"yaxis\":{\"backgroundcolor\":\"#E5ECF6\",\"gridcolor\":\"white\",\"linecolor\":\"white\",\"showbackground\":true,\"ticks\":\"\",\"zerolinecolor\":\"white\",\"gridwidth\":2},\"zaxis\":{\"backgroundcolor\":\"#E5ECF6\",\"gridcolor\":\"white\",\"linecolor\":\"white\",\"showbackground\":true,\"ticks\":\"\",\"zerolinecolor\":\"white\",\"gridwidth\":2}},\"shapedefaults\":{\"line\":{\"color\":\"#2a3f5f\"}},\"annotationdefaults\":{\"arrowcolor\":\"#2a3f5f\",\"arrowhead\":0,\"arrowwidth\":1},\"geo\":{\"bgcolor\":\"white\",\"landcolor\":\"#E5ECF6\",\"subunitcolor\":\"white\",\"showland\":true,\"showlakes\":true,\"lakecolor\":\"white\"},\"title\":{\"x\":0.05},\"mapbox\":{\"style\":\"light\"}}},\"xaxis\":{\"anchor\":\"y\",\"domain\":[0.0,1.0],\"title\":{\"text\":\"Start Date\"}},\"yaxis\":{\"anchor\":\"x\",\"domain\":[0.0,1.0],\"title\":{\"text\":\"Percentage\"},\"tickformat\":\".0%\"},\"legend\":{\"title\":{\"text\":\"Percentage\"},\"tracegroupgap\":0},\"title\":{\"text\":\"Stacked Bar Chart of Yes%, Partial%, and No%\"},\"barmode\":\"stack\",\"height\":500,\"plot_bgcolor\":\"white\",\"hovermode\":\"x\"},                        {\"responsive\": true}                    ).then(function(){\n",
       "                            \n",
       "var gd = document.getElementById('8f14f189-08df-4fc1-b0f1-5fb16b5ea29f');\n",
       "var x = new MutationObserver(function (mutations, observer) {{\n",
       "        var display = window.getComputedStyle(gd).display;\n",
       "        if (!display || display === 'none') {{\n",
       "            console.log([gd, 'removed!']);\n",
       "            Plotly.purge(gd);\n",
       "            observer.disconnect();\n",
       "        }}\n",
       "}});\n",
       "\n",
       "// Listen for the removal of the full notebook cells\n",
       "var notebookContainer = gd.closest('#notebook-container');\n",
       "if (notebookContainer) {{\n",
       "    x.observe(notebookContainer, {childList: true});\n",
       "}}\n",
       "\n",
       "// Listen for the clearing of the current output cell\n",
       "var outputEl = gd.closest('.output');\n",
       "if (outputEl) {{\n",
       "    x.observe(outputEl, {childList: true});\n",
       "}}\n",
       "\n",
       "                        })                };                });            </script>        </div>"
      ]
     },
     "metadata": {},
     "output_type": "display_data"
    }
   ],
   "source": [
    "import plotly.express as px\n",
    "\n",
    "# Melt the DataFrame to make it suitable for plotting\n",
    "melted_df = result_df.melt(id_vars=['Start Date', 'End Date'], value_vars=['Yes %', 'Partial %', 'No %'],\n",
    "                    var_name='Percentage', value_name='Value')\n",
    "\n",
    "# Define custom hex colors for each percentage category\n",
    "color_map = {\n",
    "    'Yes %': '#44B699',\n",
    "    'Partial %': '#FFE79A',\n",
    "    'No %': '#EDEDED',\n",
    "}\n",
    "\n",
    "# Create the stacked bar chart using Plotly Express with custom colors\n",
    "fig = px.bar(melted_df, x='Start Date', y='Value', color='Percentage',\n",
    "             title=\"Stacked Bar Chart of Yes%, Partial%, and No%\",\n",
    "             labels={'Value': 'Percentage'},\n",
    "             color_discrete_map=color_map,  # Use custom color map\n",
    "             height=500)\n",
    "\n",
    "# Update the layout\n",
    "fig.update_layout(\n",
    "    barmode='stack',\n",
    "    plot_bgcolor='white',\n",
    "    yaxis_tickformat='.0%',\n",
    "    hovermode='x'\n",
    ")\n",
    "\n",
    "# Customize hover behavior\n",
    "hover_template = '<b>%{x}</b><br>%{y:.0%}<extra></extra>'\n",
    "fig.update_traces(hovertemplate=hover_template)\n",
    "\n",
    "\n",
    "# Lighten the colors of other bars when hovering over yellow section\n",
    "for color_key in color_map:\n",
    "    color_value = color_map[color_key]\n",
    "    fig.update_traces(selector=dict(marker_color=[color_value]),\n",
    "                      unselected=dict(marker_opacity=0.3))\n",
    "\n",
    "# Show the plot\n",
    "fig.show()"
   ]
  }
 ],
 "metadata": {
  "kernelspec": {
   "display_name": "Python 3 (ipykernel)",
   "language": "python",
   "name": "python3"
  },
  "language_info": {
   "codemirror_mode": {
    "name": "ipython",
    "version": 3
   },
   "file_extension": ".py",
   "mimetype": "text/x-python",
   "name": "python",
   "nbconvert_exporter": "python",
   "pygments_lexer": "ipython3",
   "version": "3.9.13"
  }
 },
 "nbformat": 4,
 "nbformat_minor": 5
}
